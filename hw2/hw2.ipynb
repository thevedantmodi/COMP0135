{
 "cells": [
  {
   "cell_type": "markdown",
   "metadata": {},
   "source": [
    "# HW2 for CS 135 in Fall 2025\n",
    "\n",
    "Instructions:\n",
    "<https://www.cs.tufts.edu/cs/135/2025s/hw2.html>\n",
    "\n",
    "Instructions on webpage should be considered *authoritative*. Any instructions here in this notebook are provided to be extra helpful, but when in doubt follow the webpage instructions.\n",
    "\n",
    "This notebook is specifically for the report related to Problem 1.\n",
    "\n",
    "# Problem 1: Binary Classifier for Cancer-Risk Screening "
   ]
  },
  {
   "cell_type": "markdown",
   "metadata": {},
   "source": [
    "### Prereq\n",
    "\n",
    "* You will need to finish **Code Task** for **Problem 1** before working on this notebook. \n",
    "\n",
    "### Import Libraries"
   ]
  },
  {
   "cell_type": "code",
   "execution_count": 2,
   "metadata": {},
   "outputs": [],
   "source": [
    "import os\n",
    "import numpy as np\n",
    "import pandas as pd\n",
    "\n",
    "import sklearn.linear_model\n",
    "import sklearn.metrics"
   ]
  },
  {
   "cell_type": "code",
   "execution_count": 3,
   "metadata": {},
   "outputs": [],
   "source": [
    "# Plotting libraries\n",
    "import matplotlib\n",
    "import matplotlib.pyplot as plt\n",
    "\n",
    "plt.style.use('seaborn-v0_8') # pretty matplotlib plots\n",
    "\n",
    "import seaborn as sns\n",
    "sns.set('notebook', style='whitegrid', font_scale=1.25)\n",
    "\n",
    "# Autoload changes in other files.\n",
    "# Avoids restarting the Jupyter kernel each time you make a change to the imported code.\n",
    "%load_ext autoreload\n",
    "%autoreload 2"
   ]
  },
  {
   "cell_type": "markdown",
   "metadata": {},
   "source": [
    "# Import student-edited code \n",
    "\n",
    "Remember, you should have *completed* the Code Tasks for Problem 1 first."
   ]
  },
  {
   "cell_type": "code",
   "execution_count": 4,
   "metadata": {},
   "outputs": [],
   "source": [
    "if not os.path.exists('binary_metrics.py'):\n",
    "    raise ImportError(\"CANNOT FIND binary_metrics.py. Make sure you run this notebook in same directory as your .py files.\")"
   ]
  },
  {
   "cell_type": "code",
   "execution_count": 5,
   "metadata": {},
   "outputs": [],
   "source": [
    "from binary_metrics import (\n",
    "    calc_ACC, calc_TPR, calc_TNR)"
   ]
  },
  {
   "cell_type": "markdown",
   "metadata": {},
   "source": [
    "# Import helper code (will work as provided, no edits needed)"
   ]
  },
  {
   "cell_type": "code",
   "execution_count": 6,
   "metadata": {},
   "outputs": [],
   "source": [
    "import threshold_selection"
   ]
  },
  {
   "cell_type": "code",
   "execution_count": 7,
   "metadata": {},
   "outputs": [],
   "source": [
    "from confusion_matrix import calc_confusion_matrix_for_probas_and_threshold"
   ]
  },
  {
   "cell_type": "markdown",
   "metadata": {},
   "source": [
    "# Provided function for computing mean binary cross entropy\n",
    "\n",
    "Here, we provide a *completed* function you can use as is for Problem 1 report.\n",
    "\n",
    "Later in Problem 2, you'll write your own version of this function without using sklearn.\n",
    "\n",
    "Remember, we want the *base-2* cross entropy. For *one* pair of true label $y$ and predicted proba $p$, we have\n",
    "\n",
    "$$\n",
    "BCE(y, p) = - y \\log_2 p - (1-y) \\log_2(1-p)\n",
    "$$\n",
    "\n",
    "The function below computes the mean of this BCE across a whole dataset of size N"
   ]
  },
  {
   "cell_type": "code",
   "execution_count": 8,
   "metadata": {},
   "outputs": [],
   "source": [
    "def calc_mean_BCE_from_probas(ytrue_N, yproba1_N):\n",
    "    ''' Compute mean binary cross entropy\n",
    "    \n",
    "    Args\n",
    "    ----\n",
    "    ytrue_N : 1D array, size (n_examples,) = (N,)\n",
    "    yproba1_N : 1D array, size (n_examples,) = (N,)\n",
    "    \n",
    "    Returns\n",
    "    -------\n",
    "    mean_bce : float\n",
    "        mean binary cross entropy across all N examples\n",
    "    '''\n",
    "    return sklearn.metrics.log_loss(ytrue_N, yproba1_N, labels=[0,1]) / np.log(2.0)"
   ]
  },
  {
   "cell_type": "code",
   "execution_count": 9,
   "metadata": {},
   "outputs": [
    {
     "data": {
      "text/plain": [
       "6.643856189774724"
      ]
     },
     "execution_count": 9,
     "metadata": {},
     "output_type": "execute_result"
    }
   ],
   "source": [
    "# Check that BCE loss is high if true class is 1 but probability is low\n",
    "calc_mean_BCE_from_probas([1.], [0.01])"
   ]
  },
  {
   "cell_type": "code",
   "execution_count": 10,
   "metadata": {},
   "outputs": [
    {
     "data": {
      "text/plain": [
       "1.0"
      ]
     },
     "execution_count": 10,
     "metadata": {},
     "output_type": "execute_result"
    }
   ],
   "source": [
    "# Check that BCE loss is exactly 1 if true class is 1 but probability is 0.5\n",
    "calc_mean_BCE_from_probas([1.], [0.5])"
   ]
  },
  {
   "cell_type": "code",
   "execution_count": 11,
   "metadata": {},
   "outputs": [
    {
     "data": {
      "text/plain": [
       "0.01449956969511509"
      ]
     },
     "execution_count": 11,
     "metadata": {},
     "output_type": "execute_result"
    }
   ],
   "source": [
    "# Check that BCE loss is close to zero if true class is 1 but probability is 0.99\n",
    "calc_mean_BCE_from_probas([1.], [0.99])"
   ]
  },
  {
   "cell_type": "markdown",
   "metadata": {},
   "source": [
    "# Load x and y array data for problem 1"
   ]
  },
  {
   "cell_type": "code",
   "execution_count": 12,
   "metadata": {},
   "outputs": [],
   "source": [
    "def load_x(csv_path, feat_names=['age_0to1', 'famhistory', 'marker_0to1']):\n",
    "    df = pd.read_csv(csv_path, usecols=feat_names)\n",
    "    return np.asarray(df.values, dtype=np.float64)"
   ]
  },
  {
   "cell_type": "code",
   "execution_count": 13,
   "metadata": {},
   "outputs": [],
   "source": [
    "def load_y(csv_path, col_name='cancer'):\n",
    "    df = pd.read_csv(csv_path, usecols=[col_name])\n",
    "    return np.asarray(df.values, dtype=np.float64).flatten()"
   ]
  },
  {
   "cell_type": "code",
   "execution_count": 14,
   "metadata": {},
   "outputs": [],
   "source": [
    "# Make sure you have downloaded data and your directory is correct\n",
    "DATA_DIR = os.path.join('data_cancer') "
   ]
  },
  {
   "cell_type": "code",
   "execution_count": 15,
   "metadata": {},
   "outputs": [
    {
     "name": "stdout",
     "output_type": "stream",
     "text": [
      "Loaded x_train : shape (390, 3)\n",
      "Loaded x_valid : shape (180, 3)\n",
      "Loaded x_test  : shape (180, 3)\n"
     ]
    }
   ],
   "source": [
    "# Load 3 feature version of x arrays\n",
    "x_tr_M3 = load_x(os.path.join(DATA_DIR, 'x_train.csv'))\n",
    "x_va_N3 = load_x(os.path.join(DATA_DIR, 'x_valid.csv'))\n",
    "x_te_N3 = load_x(os.path.join(DATA_DIR, 'x_test.csv'))\n",
    "\n",
    "for label, x in [('train', x_tr_M3), ('valid', x_va_N3), ('test', x_te_N3)]:\n",
    "    print(\"Loaded x_%-5s : shape %s\" % (label, x.shape))"
   ]
  },
  {
   "cell_type": "code",
   "execution_count": 16,
   "metadata": {},
   "outputs": [],
   "source": [
    "# Load 2 feature version of x arrays\n",
    "x_tr_M2 = x_tr_M3[:, :2].copy()\n",
    "x_va_N2 = x_va_N3[:, :2].copy()\n",
    "x_te_N2 = x_te_N3[:, :2].copy()"
   ]
  },
  {
   "cell_type": "code",
   "execution_count": 17,
   "metadata": {},
   "outputs": [],
   "source": [
    "N_shape = x_va_N3.shape\n",
    "M_shape = x_tr_M3.shape\n",
    "\n",
    "N = N_shape[0]\n",
    "M = M_shape[0]"
   ]
  },
  {
   "cell_type": "markdown",
   "metadata": {},
   "source": [
    "**TODO** : Load outcomes **y** arrays"
   ]
  },
  {
   "cell_type": "code",
   "execution_count": 18,
   "metadata": {},
   "outputs": [],
   "source": [
    "# Load outcomes y arrays\n",
    "y_tr_M = load_y(os.path.join(DATA_DIR, 'y_train.csv'))\n",
    "assert y_tr_M.ndim == 1\n",
    "assert y_tr_M.shape[0] == x_tr_M2.shape[0]\n",
    "\n",
    "# Hint: Use the load_y helper, as we did for load_x above\n",
    "y_va_N = load_y(os.path.join(DATA_DIR, \"y_valid.csv\"))\n",
    "y_te_N = load_y(os.path.join(DATA_DIR, \"y_test.csv\"))\n",
    "assert y_va_N.ndim == 1\n",
    "assert y_va_N.shape[0] == x_va_N2.shape[0]\n",
    "assert y_va_N.shape[0] == y_te_N.shape[0]"
   ]
  },
  {
   "cell_type": "markdown",
   "metadata": {},
   "source": [
    "## Step 1A: Data Summarization"
   ]
  },
  {
   "cell_type": "markdown",
   "metadata": {},
   "source": [
    "### Table 1 for Report\n",
    "\n",
    "Provide a table summarizing some basic properties of the provided training set, validation set, and test set:\n",
    "\n",
    "* Row 1 'total count': how many total examples are in each set?\n",
    "* Row 2 'positive label count': how many examples have a positive label (means cancer)?\n",
    "* Row 3 'fraction positive' : what fraction (between 0 and 1) of the examples have cancer?\n",
    "\n",
    "Your result should be 3 by 3 containing 'total count', 'positive label count' and 'fraction positive' of training, valid and test sets. An example of the output looks like this:\n",
    "\n",
    "|                               | train  |valid    |test|\n",
    "|:-|-:|-:|-:|\n",
    "|num. total examples            |560.000  |120.000  |120.000\n",
    "|num. positive examples         |56.000   |12.000   |12.000\n",
    "|fraction of positive examples  |0.100    |0.100    |0.100\n",
    "\n",
    "All results should **keep 3 digits**. We set a pandas display option to ensure that below."
   ]
  },
  {
   "cell_type": "markdown",
   "metadata": {},
   "source": [
    "**TODO**: make a pandas dataframe with the correct data properties"
   ]
  },
  {
   "cell_type": "code",
   "execution_count": 19,
   "metadata": {},
   "outputs": [],
   "source": [
    "train_1 = np.count_nonzero(y_tr_M)\n",
    "train_0 = M - train_1\n",
    "\n",
    "valid_1 = np.count_nonzero(y_va_N)\n",
    "valid_0 = N - valid_1\n",
    "\n",
    "test_1 = np.count_nonzero(y_te_N)\n",
    "test_0 = N - test_1"
   ]
  },
  {
   "cell_type": "code",
   "execution_count": 20,
   "metadata": {},
   "outputs": [],
   "source": [
    "table1_df = pd.DataFrame(dict(train=[M,train_1,train_1 / M], valid=[N,valid_1,valid_1 / N], test=[N,test_1,test_1 / N]))\n",
    "table1_df.index = ['num. total examples', 'num. positive examples', 'fraction of positive examples']"
   ]
  },
  {
   "cell_type": "markdown",
   "metadata": {},
   "source": [
    "**TODO:** Use pandas' built in printing to make a nice table (using a fixed-width font)"
   ]
  },
  {
   "cell_type": "code",
   "execution_count": 21,
   "metadata": {},
   "outputs": [
    {
     "name": "stdout",
     "output_type": "stream",
     "text": [
      "                                 train    valid     test\n",
      "num. total examples            390.000  180.000  180.000\n",
      "num. positive examples          55.000   25.000   25.000\n",
      "fraction of positive examples    0.141    0.139    0.139\n"
     ]
    }
   ],
   "source": [
    "pd.set_option('display.precision', 3) # Keep this, so 3 digits after decimal are printed\n",
    "print(table1_df)\n",
    "# print(table1_df.to_latex(float_format=\"%.3f\"))"
   ]
  },
  {
   "cell_type": "markdown",
   "metadata": {},
   "source": [
    "##  Step 1B: The predict-0-always baseline"
   ]
  },
  {
   "cell_type": "markdown",
   "metadata": {},
   "source": [
    "**TODO**: predict zero for all test data points"
   ]
  },
  {
   "cell_type": "code",
   "execution_count": 22,
   "metadata": {},
   "outputs": [
    {
     "name": "stdout",
     "output_type": "stream",
     "text": [
      "[0. 0. 0. 0. 0. 0. 0. 0. 0. 0. 0. 0. 0. 0. 0. 0. 0. 0. 0. 0. 0. 0. 0. 0.\n",
      " 0. 0. 0. 0. 0. 0. 0. 0. 0. 0. 0. 0. 0. 0. 0. 0. 0. 0. 0. 0. 0. 0. 0. 0.\n",
      " 0. 0. 0. 0. 0. 0. 0. 0. 0. 0. 0. 0. 0. 0. 0. 0. 0. 0. 0. 0. 0. 0. 0. 0.\n",
      " 0. 0. 0. 0. 0. 0. 0. 0. 0. 0. 0. 0. 0. 0. 0. 0. 0. 0. 0. 0. 0. 0. 0. 0.\n",
      " 0. 0. 0. 0. 0. 0. 0. 0. 0. 0. 0. 0. 0. 0. 0. 0. 0. 0. 0. 0. 0. 0. 0. 0.\n",
      " 0. 0. 0. 0. 0. 0. 0. 0. 0. 0. 0. 0. 0. 0. 0. 0. 0. 0. 0. 0. 0. 0. 0. 0.\n",
      " 0. 0. 0. 0. 0. 0. 0. 0. 0. 0. 0. 0. 0. 0. 0. 0. 0. 0. 0. 0. 0. 0. 0. 0.\n",
      " 0. 0. 0. 0. 0. 0. 0. 0. 0. 0. 0. 0.]\n"
     ]
    }
   ],
   "source": [
    "baseline_yhat_te_N = np.zeros(N)\n",
    "print(baseline_yhat_te_N)"
   ]
  },
  {
   "cell_type": "code",
   "execution_count": 23,
   "metadata": {},
   "outputs": [
    {
     "name": "stdout",
     "output_type": "stream",
     "text": [
      "[0. 0. 0. 0. 0. 1. 0. 0. 0. 0. 0. 0. 0. 0. 0. 0. 0. 1. 0. 0. 0. 0. 0. 0.\n",
      " 0. 0. 0. 1. 0. 0. 1. 0. 0. 0. 0. 0. 0. 0. 1. 1. 0. 0. 0. 0. 0. 0. 0. 0.\n",
      " 0. 0. 0. 0. 0. 0. 0. 0. 0. 0. 0. 0. 0. 0. 0. 0. 0. 0. 0. 0. 0. 0. 0. 0.\n",
      " 1. 0. 0. 0. 0. 0. 0. 0. 0. 0. 0. 1. 0. 0. 0. 0. 0. 1. 0. 0. 0. 0. 0. 0.\n",
      " 0. 0. 0. 1. 0. 0. 1. 0. 0. 0. 1. 0. 1. 0. 0. 0. 0. 0. 0. 1. 0. 1. 0. 0.\n",
      " 0. 1. 0. 0. 0. 0. 1. 0. 1. 0. 0. 0. 0. 0. 0. 0. 0. 0. 0. 0. 0. 0. 0. 0.\n",
      " 0. 0. 0. 0. 1. 0. 0. 1. 0. 0. 0. 0. 1. 0. 0. 0. 0. 1. 0. 0. 0. 1. 1. 1.\n",
      " 0. 0. 0. 0. 0. 0. 0. 0. 0. 0. 0. 0.]\n"
     ]
    }
   ],
   "source": [
    "print(y_te_N)"
   ]
  },
  {
   "cell_type": "code",
   "execution_count": 24,
   "metadata": {},
   "outputs": [
    {
     "name": "stdout",
     "output_type": "stream",
     "text": [
      "Predicted    0  1\n",
      "True             \n",
      "0          155  0\n",
      "1           25  0\n"
     ]
    }
   ],
   "source": [
    "print(calc_confusion_matrix_for_probas_and_threshold(y_te_N, baseline_yhat_te_N, 0.5))"
   ]
  },
  {
   "cell_type": "markdown",
   "metadata": {},
   "source": [
    "**TODO** Use the printed information from the previous code cell to calculate the accuracy of baseline. \n",
    "\n",
    "Keep 3 digits in your PDF report for short Answer 1a."
   ]
  },
  {
   "cell_type": "code",
   "execution_count": 25,
   "metadata": {},
   "outputs": [
    {
     "name": "stdout",
     "output_type": "stream",
     "text": [
      "Baseline has accuracy:  0.8611111111111112\n"
     ]
    }
   ],
   "source": [
    "baseline_acc = ( 155 + 0 ) / 180\n",
    "print(\"Baseline has accuracy: \", baseline_acc)"
   ]
  },
  {
   "cell_type": "markdown",
   "metadata": {},
   "source": [
    "### Short Answer 1a in Report\n",
    "\n",
    "*See instructions on website*"
   ]
  },
  {
   "cell_type": "code",
   "execution_count": null,
   "metadata": {},
   "outputs": [],
   "source": []
  },
  {
   "cell_type": "markdown",
   "metadata": {},
   "source": [
    "## Step 1C : Logistic Regression with F=2 dataset"
   ]
  },
  {
   "cell_type": "markdown",
   "metadata": {},
   "source": [
    "**TODO**: Complete each line marked TODO fixme in the codeblock below"
   ]
  },
  {
   "cell_type": "code",
   "execution_count": 26,
   "metadata": {},
   "outputs": [],
   "source": [
    "C_grid = np.logspace(-4, 4, 17)\n",
    "\n",
    "# We will fit a separate logistic regression for each C value in the C_grid\n",
    "# And store that classifier's performance metrics (lower is better)\n",
    "# So we can compare and select the best C in the future steps.\n",
    "\n",
    "modelF2_list = list()\n",
    "\n",
    "# Allocate lists for storing BCE metrics\n",
    "tr_bce_list = list()\n",
    "va_bce_list = list()\n",
    "te_bce_list = list()\n",
    "\n",
    "# Allocate lists for storing ERROR RATE metrics\n",
    "tr_err_list = list()\n",
    "va_err_list = list()\n",
    "te_err_list = list()\n",
    "\n",
    "# Remember, we justified BCE for training our classifier by saying\n",
    "# it provides an *upper bound* on the error rate.\n",
    "\n",
    "# Loop over C values, fit models, record metrics\n",
    "for C in C_grid:\n",
    "    # TODO: Follow the instruction in HW2 and train the model lr_F2\n",
    "    # Part a: Initialize a LogisticRegression classifier with desired C value\n",
    "    # Part b: train the model with the 2-feature dataset\n",
    "    lrF2 = sklearn.linear_model.LogisticRegression(solver='lbfgs', C=C)\n",
    "    lrF2.fit(x_tr_M2, y_tr_M)\n",
    "    \n",
    "    modelF2_list.append(lrF2)\n",
    "    \n",
    "    yproba1_tr_M = lrF2.predict_proba(x_tr_M2)[:,1] # The probability of class 1 on the training set\n",
    "    yproba1_va_N = lrF2.predict_proba(x_va_N2)[:,1] # The probability of class 1 on the validation set\n",
    "    \n",
    "    # Compute error rate aka zero-one loss\n",
    "    my_tr_err = sklearn.metrics.zero_one_loss(y_tr_M, yproba1_tr_M >= 0.5)\n",
    "    my_va_err = sklearn.metrics.zero_one_loss(y_va_N, yproba1_va_N >= 0.5)\n",
    "    tr_err_list.append(my_tr_err)\n",
    "    va_err_list.append(my_va_err)\n",
    "    \n",
    "    # use calc_mean_BCE_from_probas function defined above.\n",
    "    my_tr_bce = calc_mean_BCE_from_probas(y_tr_M, yproba1_tr_M)\n",
    "    my_va_bce = calc_mean_BCE_from_probas(y_va_N, yproba1_va_N)\n",
    "    # Save bce for future selection\n",
    "    tr_bce_list.append(my_tr_bce) \n",
    "    va_bce_list.append(my_va_bce) "
   ]
  },
  {
   "cell_type": "markdown",
   "metadata": {},
   "source": [
    "Make plot to visualize mean BCE and ERR over C values (internal debugging only)"
   ]
  },
  {
   "cell_type": "code",
   "execution_count": 27,
   "metadata": {},
   "outputs": [
    {
     "data": {
      "image/png": "[encoded data removed]",
      "text/plain": [
       "<Figure size 800x550 with 1 Axes>"
      ]
     },
     "metadata": {},
     "output_type": "display_data"
    }
   ],
   "source": [
    "plt.plot(np.log10(C_grid), tr_bce_list, 'bs-', label='train BCE')\n",
    "plt.plot(np.log10(C_grid), va_bce_list, 'rs-', label='valid BCE')\n",
    "\n",
    "plt.plot(np.log10(C_grid), tr_err_list, 'b:', label='train err')\n",
    "plt.plot(np.log10(C_grid), va_err_list, 'r:', label='valid err')\n",
    "\n",
    "plt.ylabel('error')\n",
    "plt.xlabel(\"$\\log_{10} C$\");\n",
    "plt.legend(bbox_to_anchor=(1.33, 0.5)) # make legend outside plot\n",
    "plt.ylim([0, 0.7]);"
   ]
  },
  {
   "cell_type": "code",
   "execution_count": 28,
   "metadata": {},
   "outputs": [
    {
     "name": "stdout",
     "output_type": "stream",
     "text": [
      "Searched over these C values:\n",
      "[1.00000000e-04 3.16227766e-04 1.00000000e-03 3.16227766e-03\n",
      " 1.00000000e-02 3.16227766e-02 1.00000000e-01 3.16227766e-01\n",
      " 1.00000000e+00 3.16227766e+00 1.00000000e+01 3.16227766e+01\n",
      " 1.00000000e+02 3.16227766e+02 1.00000000e+03 3.16227766e+03\n",
      " 1.00000000e+04]\n",
      "Recorded these BCE loss values on val set\n",
      "[0.5813426351401082, 0.5813254320139232, 0.5812733119651239, 0.581111409940575, 0.5806176186139597, 0.5792270655407633, 0.5757056797162877, 0.5682723190563558, 0.5521275371476653, 0.5245937808237384, 0.4989979983514493, 0.4873552639106167, 0.48422067427118154, 0.4835408718221729, 0.48336529559307057, 0.483315660426351, 0.4833090534387383]\n"
     ]
    }
   ],
   "source": [
    "print(\"Searched over these C values:\")\n",
    "print(C_grid)\n",
    "\n",
    "print(\"Recorded these BCE loss values on val set\")\n",
    "print(va_bce_list)"
   ]
  },
  {
   "cell_type": "markdown",
   "metadata": {},
   "source": [
    "**TODO** Find the best C with the samllest cross entropy loss on the validation set."
   ]
  },
  {
   "cell_type": "code",
   "execution_count": 29,
   "metadata": {},
   "outputs": [
    {
     "name": "stdout",
     "output_type": "stream",
     "text": [
      "0.4833090534387383\n",
      "Best C value for F2 model:\n",
      "10000.0\n"
     ]
    }
   ],
   "source": [
    "# Find the C that corresponds to the smallest BCE loss on the validation set\n",
    "min_idx = np.argmin(va_bce_list)\n",
    "print(va_bce_list[min_idx])\n",
    "best_C__lrF2 = C_grid[min_idx] \n",
    "\n",
    "print(\"Best C value for F2 model:\")\n",
    "print(best_C__lrF2)"
   ]
  },
  {
   "cell_type": "markdown",
   "metadata": {},
   "source": [
    "**TODO** Load the model that was rated 'best'"
   ]
  },
  {
   "cell_type": "code",
   "execution_count": 30,
   "metadata": {},
   "outputs": [
    {
     "name": "stdout",
     "output_type": "stream",
     "text": [
      "Best model has coefficient values:\n",
      "[[17.30194606  0.72291375]]\n"
     ]
    }
   ],
   "source": [
    "best_lrF2 = modelF2_list[min_idx] \n",
    "\n",
    "print(\"Best model has coefficient values:\")\n",
    "print(best_lrF2.coef_)"
   ]
  },
  {
   "cell_type": "code",
   "execution_count": 31,
   "metadata": {},
   "outputs": [],
   "source": [
    "# Output the prediction of your best model for 2-feature data on the training, valid, and test set. \n",
    "# Return the probability of predicting positive class\n",
    "# We'll use them for the ROC curve later.\n",
    "\n",
    "bestlrF2_yproba1_tr_M = best_lrF2.predict_proba(x_tr_M2)[:,1]\n",
    "bestlrF2_yproba1_va_N = best_lrF2.predict_proba(x_va_N2)[:,1]\n",
    "bestlrF2_yproba1_te_N = best_lrF2.predict_proba(x_te_N2)[:,1]\n",
    "\n",
    "# Remember: predict_proba returns a 2D array with TWO columns\n",
    "# we use [:, 1] to grab the second column, corresponding to the positive class\n",
    "# the first column is the probability of the negative class (no cancer)"
   ]
  },
  {
   "cell_type": "markdown",
   "metadata": {},
   "source": [
    "## Step 1D : Logistic Regression with F=3 dataset\n",
    "**TODO**: \n",
    "* Repeat Step 1C for 3-feature dataset to find the best C. Use same C_grid and same way to pick best on val set.\n",
    "* Copy that block of code from above here, and modify accordingly..."
   ]
  },
  {
   "cell_type": "code",
   "execution_count": 32,
   "metadata": {},
   "outputs": [],
   "source": [
    "# codeblock that fits model for each C and measures error\n",
    "C_grid = np.logspace(-4, 4, 17)\n",
    "\n",
    "# We will fit a separate logistic regression for each C value in the C_grid\n",
    "# And store that classifier's performance metrics (lower is better)\n",
    "# So we can compare and select the best C in the future steps.\n",
    "\n",
    "modelF3_list = list()\n",
    "\n",
    "# Allocate lists for storing BCE metrics\n",
    "tr3_bce_list = list()\n",
    "va3_bce_list = list()\n",
    "te3_bce_list = list()\n",
    "\n",
    "# Allocate lists for storing ERROR RATE metrics\n",
    "tr3_err_list = list()\n",
    "va3_err_list = list()\n",
    "te3_err_list = list()\n",
    "\n",
    "# Remember, we justified BCE for training our classifier by saying\n",
    "# it provides an *upper bound* on the error rate.\n",
    "\n",
    "# Loop over C values, fit models, record metrics\n",
    "for C in C_grid:\n",
    "    # Follow the instruction in HW2 and train the model lr_F2\n",
    "    # Part a: Initialize a LogisticRegression classifier with desired C value\n",
    "    # Part b: train the model with the 3-feature dataset\n",
    "    lrF3 = sklearn.linear_model.LogisticRegression(solver='lbfgs', C=C)\n",
    "    lrF3.fit(x_tr_M3, y_tr_M)\n",
    "    \n",
    "    modelF3_list.append(lrF3)\n",
    "    \n",
    "    yproba1_tr_M = lrF3.predict_proba(x_tr_M3)[:,1] # The probability of class 1 on the training set\n",
    "    yproba1_va_N = lrF3.predict_proba(x_va_N3)[:,1] # The probability of class 1 on the validation set\n",
    "    \n",
    "    # Compute error rate aka zero-one loss\n",
    "    my_tr_err = sklearn.metrics.zero_one_loss(y_tr_M, yproba1_tr_M >= 0.5)\n",
    "    my_va_err = sklearn.metrics.zero_one_loss(y_va_N, yproba1_va_N >= 0.5)\n",
    "    tr3_err_list.append(my_tr_err)\n",
    "    va3_err_list.append(my_va_err)\n",
    "    \n",
    "    # use calc_mean_BCE_from_probas function defined above.\n",
    "    my_tr_bce = calc_mean_BCE_from_probas(y_tr_M, yproba1_tr_M)\n",
    "    my_va_bce = calc_mean_BCE_from_probas(y_va_N, yproba1_va_N)\n",
    "    # Save bce for future selection\n",
    "    tr3_bce_list.append(my_tr_bce) \n",
    "    va3_bce_list.append(my_va_bce) "
   ]
  },
  {
   "cell_type": "code",
   "execution_count": 33,
   "metadata": {},
   "outputs": [
    {
     "data": {
      "image/png": "[encoded data removed]",
      "text/plain": [
       "<Figure size 800x550 with 1 Axes>"
      ]
     },
     "metadata": {},
     "output_type": "display_data"
    }
   ],
   "source": [
    "# TODO codeblock that visualizes error as function of C (for your own debugging\n",
    "# purposes)\n",
    "plt.plot(np.log10(C_grid), tr3_bce_list, 'bs-', label='train BCE')\n",
    "plt.plot(np.log10(C_grid), va3_bce_list, 'rs-', label='valid BCE')\n",
    "\n",
    "plt.plot(np.log10(C_grid), tr3_err_list, 'b:', label='train err')\n",
    "plt.plot(np.log10(C_grid), va3_err_list, 'r:', label='valid err')\n",
    "\n",
    "plt.ylabel('error')\n",
    "plt.xlabel(\"$\\log_{10} C$\");\n",
    "plt.legend(bbox_to_anchor=(1.33, 0.5)) # make legend outside plot\n",
    "plt.ylim([0, 0.7]);"
   ]
  },
  {
   "cell_type": "code",
   "execution_count": 34,
   "metadata": {},
   "outputs": [
    {
     "name": "stdout",
     "output_type": "stream",
     "text": [
      "Searched over these C values:\n",
      "[1.00000000e-04 3.16227766e-04 1.00000000e-03 3.16227766e-03\n",
      " 1.00000000e-02 3.16227766e-02 1.00000000e-01 3.16227766e-01\n",
      " 1.00000000e+00 3.16227766e+00 1.00000000e+01 3.16227766e+01\n",
      " 1.00000000e+02 3.16227766e+02 1.00000000e+03 3.16227766e+03\n",
      " 1.00000000e+04]\n",
      "Recorded these BCE loss values on val set\n",
      "[0.5813347461367306, 0.5813024291848665, 0.5812012369110466, 0.5808846844085777, 0.5799102632966531, 0.5770682188282334, 0.5697643397177846, 0.5548231567919828, 0.532473893553105, 0.5019849699409503, 0.4697251827756534, 0.45085095771541134, 0.4440701858272876, 0.44210035041274925, 0.44152915505092794, 0.4413557080161287, 0.44130165778977]\n",
      "0.44130165778977\n",
      "Best C value for F3 model:\n",
      "10000.0\n"
     ]
    }
   ],
   "source": [
    "# codeblock that finds the best C value and corresponding best LR model\n",
    "print(\"Searched over these C values:\")\n",
    "print(C_grid)\n",
    "\n",
    "print(\"Recorded these BCE loss values on val set\")\n",
    "print(va3_bce_list)\n",
    "# Find the C that corresponds to the smallest BCE loss on the validation set\n",
    "min_idx = np.argmin(va3_bce_list)\n",
    "print(va3_bce_list[min_idx])\n",
    "best_C__lrF3 = C_grid[min_idx] \n",
    "\n",
    "print(\"Best C value for F3 model:\")\n",
    "print(best_C__lrF3)"
   ]
  },
  {
   "cell_type": "markdown",
   "metadata": {},
   "source": [
    "**TODO**:\n",
    "* Using your best F=3 model, predict the probability of predicting positive class (y=1) on training, validation and test set."
   ]
  },
  {
   "cell_type": "code",
   "execution_count": 35,
   "metadata": {},
   "outputs": [
    {
     "name": "stdout",
     "output_type": "stream",
     "text": [
      "Best model has coefficient values:\n",
      "[[20.00604772  0.7806252   7.17378657]]\n"
     ]
    }
   ],
   "source": [
    "best_lrF3 = modelF3_list[min_idx]\n",
    "\n",
    "print(\"Best model has coefficient values:\")\n",
    "print(best_lrF3.coef_)\n",
    "\n",
    "# Return the posibility of predicting true on training, validation and test set.\n",
    "# Hint: follow what's done in the last code block of Step 1C.\n",
    "\n",
    "bestlrF3_yproba1_tr_M = best_lrF3.predict_proba(x_tr_M3)[:,1]\n",
    "bestlrF3_yproba1_va_N = best_lrF3.predict_proba(x_va_N3)[:,1]\n",
    "bestlrF3_yproba1_te_N = best_lrF3.predict_proba(x_te_N3)[:,1]"
   ]
  },
  {
   "cell_type": "markdown",
   "metadata": {},
   "source": [
    "## Step 1E : Comparing Models using ROC Analysis\n",
    "\n",
    "\n",
    "**TODO**:\n",
    "\n",
    "1) Review the sklearn documentation for using [sklearn.metrics.roc_curve](https://scikit-learn.org/stable/modules/generated/sklearn.metrics.roc_curve.html)\n",
    "\n",
    "2) Skim the sklearn User Guide on [ROC curves](https://scikit-learn.org/stable/modules/model_evaluation.html#roc-metrics)\n",
    "\n",
    "3) Follow instructions below to produce a ROC figure for your report"
   ]
  },
  {
   "cell_type": "code",
   "execution_count": 36,
   "metadata": {},
   "outputs": [
    {
     "data": {
      "image/png": "[encoded data removed]",
      "text/plain": [
       "<Figure size 500x500 with 1 Axes>"
      ]
     },
     "metadata": {},
     "output_type": "display_data"
    }
   ],
   "source": [
    "# ROC curve comparing F=2 and F=3 logistic regression (LR) models\n",
    "\n",
    "# Create square aspect-ratio figure\n",
    "plt.subplots(nrows=1, ncols=1, figsize=(5,5));\n",
    "\n",
    "# TODO Use provided true labels and predictions for validation set\n",
    "# Call `sklearn.metrics.roc_curve'. See links above to User Guide and docs.\n",
    "# This will produce arrays of fpr (false pos rate) and tpr (true pos rate) values,\n",
    "# That you can use to make the ROC plot, replacing the dummy fpr/tpr values below.\n",
    "\n",
    "# Read HW2 instructions carefully to verify correct plot style (line type, line color, etc.)\n",
    "\n",
    "fpr, tpr, t1 = sklearn.metrics.roc_curve(y_va_N, bestlrF3_yproba1_va_N)\n",
    "plt.plot(fpr, tpr, 'r.-', label='LR F=3 on valid');\n",
    "\n",
    "fpr, tpr, t2 = sklearn.metrics.roc_curve(y_va_N, bestlrF2_yproba1_va_N)\n",
    "plt.plot(fpr, tpr, 'b.-', label='LR F=2 on valid');\n",
    "\n",
    "# print(t2)\n",
    "# print(t1)\n",
    "\n",
    "plt.title(\"ROC on Validation Set\");\n",
    "plt.xlabel('FPR = 1 - TNR');\n",
    "plt.ylabel('TPR');\n",
    "plt.legend(loc='lower right');\n",
    "B = 0.01\n",
    "plt.xlim([0 - B, 1 + B]);\n",
    "plt.ylim([0 - B, 1 + B]);"
   ]
  },
  {
   "cell_type": "markdown",
   "metadata": {},
   "source": [
    "### Figure 1 for Report: Comparing models using ROC analysis\n",
    "\n",
    "**TODO**: *Include the above figure in your report*."
   ]
  },
  {
   "cell_type": "markdown",
   "metadata": {},
   "source": [
    "### Short Answer 1b for Report\n",
    "\n",
    "*See instructions on website*"
   ]
  },
  {
   "cell_type": "code",
   "execution_count": null,
   "metadata": {},
   "outputs": [],
   "source": []
  },
  {
   "cell_type": "markdown",
   "metadata": {},
   "source": [
    "## Selecting a decision threshold\n",
    "\n",
    "Remember that to turn predicted probabilities into binary decisions, we need a threshold.\n",
    "\n",
    "Steps 1F and 1G describe two ways to pick such a threshold.\n",
    "\n",
    "**Best Practice throughout**: Pick threshold on validation set. Measure ultimate performance on test set."
   ]
  },
  {
   "cell_type": "markdown",
   "metadata": {},
   "source": [
    "## Step 1F: Use F=3 LR with threshold = 0.5"
   ]
  },
  {
   "cell_type": "code",
   "execution_count": 37,
   "metadata": {},
   "outputs": [
    {
     "name": "stdout",
     "output_type": "stream",
     "text": [
      "Fig. 2 column 1:\n",
      "\n",
      "threshold = 0.500\n",
      "\n",
      "Predicted    0  1\n",
      "True             \n",
      "0          152  3\n",
      "1           21  4\n",
      "\n",
      "TPR = 0.160\n",
      "TNR = 0.981\n"
     ]
    }
   ],
   "source": [
    "default_thr = 0.5\n",
    "\n",
    "# calculate Confusion Matrix for this threshold\n",
    "cmat_df = calc_confusion_matrix_for_probas_and_threshold(y_va_N, bestlrF3_yproba1_va_N, default_thr)\n",
    "# See previous usage in Step 1B above\n",
    "\n",
    "\n",
    "# compute True Positive Rate (TPR)\n",
    "# we want \n",
    "tpr = calc_TPR(y_va_N, bestlrF3_yproba1_va_N >= default_thr)\n",
    "\n",
    "# compute True Negative Rate (TNR)\n",
    "tnr = calc_TNR(y_va_N, bestlrF3_yproba1_va_N >= default_thr)\n",
    "\n",
    "print(f\"Fig. 2 column 1:\\n\\nthreshold = {default_thr :.3f}\\n\")\n",
    "print(cmat_df)\n",
    "print(f\"\\nTPR = {tpr :.3f}\\nTNR = {tnr :.3f}\")"
   ]
  },
  {
   "cell_type": "markdown",
   "metadata": {},
   "source": [
    "## Step 1G : Use F=3 LR with threshold to maximize TNR s.t. TPR >= 0.95"
   ]
  },
  {
   "cell_type": "code",
   "execution_count": 38,
   "metadata": {},
   "outputs": [],
   "source": [
    "# Compute performance metrics across possible thresholds from 0.0 to 1.0\n",
    "# Here, we're looking at VALIDATION set\n",
    "\n",
    "thresh_grid, va_perf_grid = threshold_selection.compute_perf_metrics_across_thresholds(\n",
    "    y_va_N, bestlrF3_yproba1_va_N)"
   ]
  },
  {
   "cell_type": "code",
   "execution_count": 39,
   "metadata": {},
   "outputs": [
    {
     "name": "stdout",
     "output_type": "stream",
     "text": [
      "thr 0.0\n",
      "ACC 0.13888888888881173\n",
      "TPR 0.9999999999960001\n",
      "TNR 0.0\n",
      "\n",
      "thr 0.0006245136199418165\n",
      "ACC 0.13888888888881173\n",
      "TPR 0.9999999999960001\n",
      "TNR 0.0\n",
      "\n",
      "thr 0.0012832922108336694\n",
      "ACC 0.14444444444436422\n",
      "TPR 0.9999999999960001\n",
      "TNR 0.006451612903221645\n",
      "\n",
      "...\n"
     ]
    }
   ],
   "source": [
    "# Inspect what the above returned...\n",
    "\n",
    "# thresh_grid is a big 1D array of possible thresholds\n",
    "# va_perf_grid is a dict, where each key gives a 1D array same size as thresh_grid\n",
    "\n",
    "# See only the first 3 entries\n",
    "for gg in range(3):\n",
    "    print('thr', thresh_grid[gg])\n",
    "    print('ACC', va_perf_grid['acc'][gg])\n",
    "    print('TPR', va_perf_grid['tpr'][gg])\n",
    "    print('TNR', va_perf_grid['tnr'][gg])\n",
    "    print()\n",
    "print(\"...\")"
   ]
  },
  {
   "cell_type": "markdown",
   "metadata": {},
   "source": [
    "**TODO**: Write code to find the threshold that maximizes TNR while TPR >= 0.95"
   ]
  },
  {
   "cell_type": "code",
   "execution_count": 40,
   "metadata": {},
   "outputs": [
    {
     "name": "stdout",
     "output_type": "stream",
     "text": [
      "105\n",
      "0.07547371472100284\n"
     ]
    }
   ],
   "source": [
    "# Find threshold that makes TNR as large as possible, while satisfying TPR >=\n",
    "# 0.95\n",
    "best_gg = 0\n",
    "\n",
    "good_TPR = va_perf_grid['tpr'] >= 0.95\n",
    "filtered_thresholds = thresh_grid[good_TPR]\n",
    "filtered_TNR = va_perf_grid['tnr'][good_TPR]\n",
    "filtered_TPR = va_perf_grid['tpr'][good_TPR]\n",
    "for gg in range(len(filtered_thresholds)):\n",
    "    if (filtered_TNR[gg] == filtered_TNR[best_gg] and \n",
    "        filtered_TNR[gg] > filtered_TNR[best_gg]):\n",
    "        best_gg = gg\n",
    "    elif filtered_TNR[gg] > filtered_TNR[best_gg]:\n",
    "        best_gg = gg\n",
    "\n",
    "print(best_gg)\n",
    "# print(\"TNR\")\n",
    "# print(filtered_TNR)\n",
    "# print(va_perf_grid['tnr'])\n",
    "# print(\"TPR\")\n",
    "# print(filtered_TPR)\n",
    "# print(va_perf_grid['tpr'])\n",
    "\n",
    "# print(thresh_grid)\n",
    "# print(filtered_thresholds)\n",
    "\n",
    "# Make arrays for threshold, TPR, and TNR\n",
    "# Make smaller arrays such that all entries satisfy the TPR constraint\n",
    "# Search for the largest TNR value, and keep corresponding threshold\n",
    "\n",
    "best_thr = filtered_thresholds[best_gg]\n",
    "print(best_thr)"
   ]
  },
  {
   "cell_type": "code",
   "execution_count": 41,
   "metadata": {},
   "outputs": [
    {
     "name": "stdout",
     "output_type": "stream",
     "text": [
      "Fig. 2 column 2:\n",
      "\n",
      "threshold = 0.075\n",
      "\n",
      "Predicted    0   1\n",
      "True              \n",
      "0          103  52\n",
      "1            1  24\n",
      "\n",
      "TPR = 0.960\n",
      "TNR = 0.665\n"
     ]
    }
   ],
   "source": [
    "# calculate Confusion Matrix for this threshold\n",
    "# ___ = calc_confusion_matrix_for_probas_and_threshold(___)\n",
    "# See previous usage in Step 1B above\n",
    "cmat_df = calc_confusion_matrix_for_probas_and_threshold(y_va_N, bestlrF3_yproba1_va_N, best_thr)\n",
    "\n",
    "# compute True Positive Rate (TPR)\n",
    "tpr = calc_TPR(y_va_N, bestlrF3_yproba1_va_N >= best_thr)\n",
    "\n",
    "# compute True Negative Rate (TNR)\n",
    "tnr = calc_TNR(y_va_N, bestlrF3_yproba1_va_N >= best_thr)\n",
    "\n",
    "\n",
    "print(f\"Fig. 2 column 2:\\n\\nthreshold = {best_thr :.3f}\\n\")\n",
    "print(cmat_df)\n",
    "print(f\"\\nTPR = {tpr :.3f}\\nTNR = {tnr :.3f}\")"
   ]
  },
  {
   "cell_type": "markdown",
   "metadata": {},
   "source": [
    "### Table 2 for Report\n",
    "\n",
    "See instructions on website on how to combine material from Step 1F and Step 1G\n",
    "to produce a table.\n",
    "\n",
    "\n",
    "Each column should correspond to one of the following models:\n",
    "\n",
    "* F=3 Logistic Regression using threshold 0.5 from 1F\n",
    "* F=3 Logistic Regression using selected threshold from 1G\n",
    "\n",
    "Each row should report the performance of the model on the test set\n",
    "\n",
    "* Top: Threshold\n",
    "* Middle: confusion matrix on the test set\n",
    "* Bottom: TPR and TNR on the test set\n",
    "\n",
    "\n"
   ]
  },
  {
   "cell_type": "code",
   "execution_count": null,
   "metadata": {},
   "outputs": [
    {
     "name": "stdout",
     "output_type": "stream",
     "text": [
      "\\begin{tabular}{lrr}\n",
      "\\toprule\n",
      "Predicted & 0 & 1 \\\\\n",
      "True &  &  \\\\\n",
      "\\midrule\n",
      "0 & 149 & 6 \\\\\n",
      "1 & 17 & 8 \\\\\n",
      "\\bottomrule\n",
      "\\end{tabular}\n",
      "\n",
      "\n",
      "\\begin{tabular}{lrr}\n",
      "\\toprule\n",
      "Predicted & 0 & 1 \\\\\n",
      "True &  &  \\\\\n",
      "\\midrule\n",
      "0 & 92 & 63 \\\\\n",
      "1 & 1 & 24 \\\\\n",
      "\\bottomrule\n",
      "\\end{tabular}\n",
      "\n",
      "511.1111111111111 5.555555555555555 350.0 133.33333333333334\n"
     ]
    },
    {
     "data": {
      "text/plain": [
       "1000.0"
      ]
     },
     "execution_count": 71,
     "metadata": {},
     "output_type": "execute_result"
    }
   ],
   "source": [
    "cmat_test__default = calc_confusion_matrix_for_probas_and_threshold(y_te_N, bestlrF3_yproba1_te_N, default_thr)\n",
    "cmat_test__best    = calc_confusion_matrix_for_probas_and_threshold(y_te_N, bestlrF3_yproba1_te_N, best_thr)\n",
    "\n",
    "TPR__default, TNR__default = calc_TPR(y_te_N, bestlrF3_yproba1_te_N >= default_thr), calc_TNR(y_te_N, bestlrF3_yproba1_te_N >= default_thr)\n",
    "TPR__best, TNR__best       = calc_TPR(y_te_N, bestlrF3_yproba1_te_N >= best_thr), calc_TNR(y_te_N, bestlrF3_yproba1_te_N >= best_thr)\n",
    "\n",
    "df1  = pd.DataFrame(cmat_test__default).to_latex()\n",
    "df2  = pd.DataFrame(cmat_test__best).to_latex()\n",
    "\n",
    "print(df1)\n",
    "print()\n",
    "print(df2)\n",
    "col_names = ['F=3 Logistic Regression with Default Threshold', 'F=3 Logistic Regression with Best Threshold']\n",
    "row_names = ['Threshold used.', 'Confusion Matrix on test set.', 'TPR and TNR on the test set']\n",
    "df = pd.DataFrame(columns=col_names, \n",
    "             index=row_names, \n",
    "             data=[\n",
    "                 [f'{default_thr : .3f}', f'{best_thr : .3f}'], \n",
    "                 [cmat_test__default, cmat_test__best], [\n",
    "                     f\"TPR = {TPR__default : .3f} TNR = {TNR__default : .3f}\",\n",
    "                        f\"TPR = {TPR__best : .3f} TNR = {TNR__best : .3f}\"]])\n",
    "df\n",
    "print(92/180 * 1000, 1/180 * 1000, 63/180 * 1000, 24/180 * 1000)\n",
    "\n",
    "pd.DataFrame([])\n",
    "sum([92/180 * 1000, 1/180 * 1000, 63/180 * 1000, 24/180 * 1000])"
   ]
  },
  {
   "cell_type": "markdown",
   "metadata": {},
   "source": [
    "### Short Answer 1c and 1d for Report\n",
    "\n",
    "*See instructions on website*"
   ]
  },
  {
   "cell_type": "code",
   "execution_count": 76,
   "metadata": {},
   "outputs": [
    {
     "name": "stdout",
     "output_type": "stream",
     "text": [
      "\\begin{tabular}{lrr}\n",
      "\\toprule\n",
      "Predicted & 0 & 1 \\\\\n",
      "True &  &  \\\\\n",
      "\\midrule\n",
      "0 & 511.111111 & 5.555556 \\\\\n",
      "1 & 350.000000 & 133.333333 \\\\\n",
      "\\bottomrule\n",
      "\\end{tabular}\n",
      "\n"
     ]
    }
   ],
   "source": [
    "# for short answer 1e\n",
    "cm = [[92/180 * 1000, 1/180 * 1000], [63/180 * 1000, 24/180 * 1000]]\n",
    "cm_df = pd.DataFrame(data=cm, columns=[0, 1], index=[0, 1])\n",
    "cm_df.columns.name = 'Predicted'\n",
    "cm_df.index.name = 'True'\n",
    "print(cm_df.to_latex())"
   ]
  }
 ],
 "metadata": {
  "kernelspec": {
   "display_name": "cs135_25s_env",
   "language": "python",
   "name": "python3"
  },
  "language_info": {
   "codemirror_mode": {
    "name": "ipython",
    "version": 3
   },
   "file_extension": ".py",
   "mimetype": "text/x-python",
   "name": "python",
   "nbconvert_exporter": "python",
   "pygments_lexer": "ipython3",
   "version": "3.11.11"
  }
 },
 "nbformat": 4,
 "nbformat_minor": 2
}
