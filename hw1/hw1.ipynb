{
 "cells": [
  {
   "cell_type": "markdown",
   "metadata": {},
   "source": [
    "# HW1 : Regression, Cross-Validation, and  Regularization"
   ]
  },
  {
   "cell_type": "code",
   "execution_count": 199,
   "metadata": {},
   "outputs": [],
   "source": [
    "import os\n",
    "import numpy as np\n",
    "import pandas as pd\n",
    " \n",
    "import sklearn.preprocessing\n",
    "import sklearn.pipeline\n",
    "import sklearn.linear_model"
   ]
  },
  {
   "cell_type": "code",
   "execution_count": 200,
   "metadata": {},
   "outputs": [],
   "source": [
    "from matplotlib import pyplot as plt\n",
    "\n",
    "import seaborn as sns\n",
    "sns.set('notebook', font_scale=1.25, style='whitegrid')"
   ]
  },
  {
   "cell_type": "markdown",
   "metadata": {},
   "source": [
    "### Configuration"
   ]
  },
  {
   "cell_type": "code",
   "execution_count": 201,
   "metadata": {},
   "outputs": [],
   "source": [
    "SEED = 12345 \n",
    "\n",
    "DATA_DIR = 'data_auto'"
   ]
  },
  {
   "cell_type": "markdown",
   "metadata": {},
   "source": [
    "### Methods for loading dataset"
   ]
  },
  {
   "cell_type": "code",
   "execution_count": 202,
   "metadata": {},
   "outputs": [],
   "source": [
    "def load_2d_arr_from_csv(fname, include_header=False):\n",
    "    x = np.loadtxt(os.path.join(DATA_DIR, fname), delimiter=',', skiprows=1)\n",
    "    assert x.ndim == 2\n",
    "    if include_header:\n",
    "        header_cols = np.loadtxt(os.path.join(DATA_DIR, fname), delimiter=',', dtype=str)[0].tolist()\n",
    "        return x, header_cols\n",
    "    else:\n",
    "        return x\n",
    "    \n",
    "def load_1d_arr_from_csv(fname):\n",
    "    x = np.loadtxt(os.path.join(DATA_DIR, fname), delimiter=',', skiprows=1)\n",
    "    if x.ndim == 1:\n",
    "        return x\n",
    "    else:\n",
    "        raise ValueError(\"Not 1d\")"
   ]
  },
  {
   "cell_type": "markdown",
   "metadata": {},
   "source": [
    "# Load the dataset\n",
    "\n",
    "Predefined 'x' and 'y' arrays for train/valid/test"
   ]
  },
  {
   "cell_type": "code",
   "execution_count": 203,
   "metadata": {},
   "outputs": [],
   "source": [
    "x_tr_MF, xcolnames_F = load_2d_arr_from_csv('x_train.csv', include_header=True)\n",
    "x_va_NF = load_2d_arr_from_csv('x_valid.csv')\n",
    "x_te_PF = load_2d_arr_from_csv('x_test.csv')"
   ]
  },
  {
   "cell_type": "code",
   "execution_count": 204,
   "metadata": {},
   "outputs": [
    {
     "name": "stdout",
     "output_type": "stream",
     "text": [
      "['horsepower', 'weight', 'cylinders', 'displacement']\n"
     ]
    }
   ],
   "source": [
    "print(xcolnames_F)"
   ]
  },
  {
   "cell_type": "code",
   "execution_count": 205,
   "metadata": {},
   "outputs": [
    {
     "name": "stdout",
     "output_type": "stream",
     "text": [
      "[[ 115. 2595.    6.  173.]\n",
      " [ 180. 4380.    8.  350.]\n",
      " [ 150. 4457.    8.  318.]\n",
      " [ 105. 3897.    6.  250.]\n",
      " [ 193. 4732.    8.  304.]]\n"
     ]
    }
   ],
   "source": [
    "print(x_tr_MF[:5])"
   ]
  },
  {
   "cell_type": "code",
   "execution_count": 206,
   "metadata": {},
   "outputs": [],
   "source": [
    "y_tr_M = load_1d_arr_from_csv('y_train.csv')\n",
    "y_va_N = load_1d_arr_from_csv('y_valid.csv')\n",
    "y_te_P = load_1d_arr_from_csv('y_test.csv')"
   ]
  },
  {
   "cell_type": "code",
   "execution_count": 207,
   "metadata": {},
   "outputs": [
    {
     "name": "stdout",
     "output_type": "stream",
     "text": [
      "[[28.8]\n",
      " [16.5]\n",
      " [14. ]\n",
      " [16. ]\n",
      " [ 9. ]]\n"
     ]
    }
   ],
   "source": [
    "print(y_tr_M[:5,np.newaxis])"
   ]
  },
  {
   "cell_type": "code",
   "execution_count": 208,
   "metadata": {},
   "outputs": [
    {
     "data": {
      "text/plain": [
       "46.6"
      ]
     },
     "execution_count": 208,
     "metadata": {},
     "output_type": "execute_result"
    }
   ],
   "source": [
    "y_tr_M.max()"
   ]
  },
  {
   "cell_type": "code",
   "execution_count": 209,
   "metadata": {},
   "outputs": [],
   "source": [
    "Y_MAX = 60.0"
   ]
  },
  {
   "cell_type": "markdown",
   "metadata": {},
   "source": [
    "## Load completed code"
   ]
  },
  {
   "cell_type": "code",
   "execution_count": 210,
   "metadata": {},
   "outputs": [],
   "source": [
    "from performance_metrics import calc_root_mean_squared_error\n",
    "from cross_validation import train_models_and_calc_scores_for_n_fold_cv"
   ]
  },
  {
   "cell_type": "markdown",
   "metadata": {},
   "source": [
    "## Define useful plotting functions"
   ]
  },
  {
   "cell_type": "code",
   "execution_count": 211,
   "metadata": {},
   "outputs": [],
   "source": [
    "def plot_train_and_valid_error_vs_hyper(\n",
    "        hyper_list, err_tr_list=None, err_va_list=None,\n",
    "        ymax=40,\n",
    "        leg_loc='upper right',\n",
    "        xlabel='polynomial degree',\n",
    "        ylabel='RMSE'):\n",
    "    if err_va_list is not None:\n",
    "        plt.plot(hyper_list, err_va_list, 'rs-', label='valid');\n",
    "    if err_tr_list is not None:\n",
    "        plt.plot(hyper_list, err_tr_list, 'bd:', label='train');\n",
    "    plt.ylim([0, ymax]);\n",
    "    plt.legend(loc=leg_loc);\n",
    "    plt.xlabel(xlabel);\n",
    "    plt.ylabel(ylabel);"
   ]
  },
  {
   "cell_type": "markdown",
   "metadata": {},
   "source": [
    "## Method to sanitize predictions\n",
    "\n",
    "We are predicting MPG, which should \n",
    "* (1) always be positive, and\n",
    "* (2) will probably never exceed 120% of the largest value we see in train data"
   ]
  },
  {
   "cell_type": "code",
   "execution_count": 212,
   "metadata": {},
   "outputs": [],
   "source": [
    "def sanitize(yhat_N):\n",
    "    yhat_N = np.maximum(yhat_N, 0)\n",
    "    yhat_N = np.minimum(yhat_N, Y_MAX)\n",
    "    return yhat_N"
   ]
  },
  {
   "cell_type": "code",
   "execution_count": 213,
   "metadata": {},
   "outputs": [],
   "source": [
    "bad_yhat_N = np.asarray([-10, -1, 0, 1, 5, 10, 50, 55, 60, 65])"
   ]
  },
  {
   "cell_type": "code",
   "execution_count": 214,
   "metadata": {},
   "outputs": [
    {
     "data": {
      "text/plain": [
       "array([-10,  -1,   0,   1,   5,  10,  50,  55,  60,  65])"
      ]
     },
     "execution_count": 214,
     "metadata": {},
     "output_type": "execute_result"
    }
   ],
   "source": [
    "bad_yhat_N"
   ]
  },
  {
   "cell_type": "code",
   "execution_count": 215,
   "metadata": {},
   "outputs": [
    {
     "data": {
      "text/plain": [
       "array([ 0.,  0.,  0.,  1.,  5., 10., 50., 55., 60., 60.])"
      ]
     },
     "execution_count": 215,
     "metadata": {},
     "output_type": "execute_result"
    }
   ],
   "source": [
    "sanitize(bad_yhat_N)"
   ]
  },
  {
   "cell_type": "markdown",
   "metadata": {},
   "source": [
    "## Methods for building pipelines"
   ]
  },
  {
   "cell_type": "markdown",
   "metadata": {},
   "source": [
    "Code for Problem 1"
   ]
  },
  {
   "cell_type": "code",
   "execution_count": 216,
   "metadata": {},
   "outputs": [],
   "source": [
    "def make_pipeline__unpenalized_linear_regr_with_poly_feats(degree=1):\n",
    "    pipeline = sklearn.pipeline.Pipeline(\n",
    "        steps=[\n",
    "         ('rescaler', sklearn.preprocessing.MinMaxScaler()),\n",
    "         ('poly_transformer', sklearn.preprocessing.PolynomialFeatures(degree=degree, include_bias=False)),\n",
    "         ('linear_regr', sklearn.linear_model.LinearRegression()),\n",
    "        ])\n",
    "    \n",
    "    # Return the constructed pipeline\n",
    "    # We can treat it as if it has a 'regression' API\n",
    "    # e.g. a fit and a predict method\n",
    "    return pipeline"
   ]
  },
  {
   "cell_type": "markdown",
   "metadata": {},
   "source": [
    "Code for Problem 2"
   ]
  },
  {
   "cell_type": "code",
   "execution_count": 217,
   "metadata": {},
   "outputs": [],
   "source": [
    "def make_pipeline__ridge_linear_regr_with_poly_feats(degree=1, alpha=1.0):\n",
    "    pipeline = sklearn.pipeline.Pipeline(\n",
    "        steps=[\n",
    "         ('rescaler', sklearn.preprocessing.MinMaxScaler()),\n",
    "         ('poly_transformer', sklearn.preprocessing.PolynomialFeatures(degree=degree, include_bias=False)),\n",
    "         ('linear_regr', sklearn.linear_model.Ridge(alpha=alpha)),\n",
    "        ])\n",
    "\n",
    "    # Return the constructed pipeline\n",
    "    # We can treat it as if it has a 'regression' API\n",
    "    # e.g. a fit and a predict method\n",
    "    return pipeline"
   ]
  },
  {
   "cell_type": "markdown",
   "metadata": {},
   "source": [
    "## Method to inspect learned weights"
   ]
  },
  {
   "cell_type": "code",
   "execution_count": 218,
   "metadata": {},
   "outputs": [],
   "source": [
    "def pretty_print_learned_weights(pipeline, xcolnames_F):\n",
    "    ''' Print the learned parameters of given pipeline\n",
    "    '''\n",
    "    my_lin_regr = pipeline.named_steps['linear_regr']\n",
    "\n",
    "    feat_names = pipeline.named_steps['poly_transformer'].get_feature_names_out()\n",
    "    coef_values = my_lin_regr.coef_\n",
    "\n",
    "    for feat, coef in zip(feat_names, coef_values):\n",
    "        print(\"% 7.2f : %s\" % (coef, feat))\n",
    "    \n",
    "    print(\"where \")\n",
    "    for ff, colname in enumerate(xcolnames_F):\n",
    "        print(\"x%d = %s\" % (ff, colname))"
   ]
  },
  {
   "cell_type": "markdown",
   "metadata": {},
   "source": [
    "# Problem 0: Simple Baseline: Guess-the-Training-Set-Mean"
   ]
  },
  {
   "cell_type": "markdown",
   "metadata": {},
   "source": [
    "It is a good engineering practice to try simple approaches before complex models.\n",
    "\n",
    "Here's a very simple regression model: given a training set, compute its mean and store that as $\\bar{y}$.\n",
    "\n",
    "Then, define the prediction function of this model as\n",
    "\n",
    "$$\n",
    "\\hat{y}( x_* ) = \\bar{y}\n",
    "$$\n",
    "\n",
    "That is, no matter what feature vector $x_*$ is provided, always guess the train-set-mean $\\bar{y}$.\n",
    "\n",
    "### Implementation Step 0A\n",
    "\n",
    "Determine the mean y-value of the train set, using arrays `x_tr_MF` and `y_tr_M`."
   ]
  },
  {
   "cell_type": "code",
   "execution_count": 219,
   "metadata": {},
   "outputs": [],
   "source": [
    "ybar = np.mean(y_tr_M)"
   ]
  },
  {
   "cell_type": "markdown",
   "metadata": {},
   "source": [
    "### Implementation Step 0B\n",
    "\n",
    "Compute the RMSE this baseline gets on the train set, val set, and test set\n"
   ]
  },
  {
   "cell_type": "code",
   "execution_count": 220,
   "metadata": {},
   "outputs": [],
   "source": [
    "(M,) = y_tr_M.shape\n",
    "(N,) = y_va_N.shape\n",
    "(P,) = y_te_P.shape\n",
    "yhat_M = np.full(M, ybar)\n",
    "yhat_N = np.full(N, ybar)\n",
    "yhat_P = np.full(P, ybar)\n",
    "baseline_err_tr = calc_root_mean_squared_error(y_te_P, yhat_P)\n",
    "baseline_err_va = calc_root_mean_squared_error(y_va_N, yhat_N)\n",
    "baseline_err_te = calc_root_mean_squared_error(y_tr_M, yhat_M)"
   ]
  },
  {
   "cell_type": "markdown",
   "metadata": {},
   "source": [
    "# Problem 1: Polynomial Degree Selection on Fixed Validation Set\n"
   ]
  },
  {
   "cell_type": "markdown",
   "metadata": {},
   "source": [
    "### Implementation Step 1A\n",
    "    \n",
    "Fit a linear regression model to a polynomial feature transform when degree = 1\n"
   ]
  },
  {
   "cell_type": "code",
   "execution_count": 221,
   "metadata": {},
   "outputs": [
    {
     "data": {
      "text/html": [
       "<style>#sk-container-id-6 {\n",
       "  /* Definition of color scheme common for light and dark mode */\n",
       "  --sklearn-color-text: black;\n",
       "  --sklearn-color-line: gray;\n",
       "  /* Definition of color scheme for unfitted estimators */\n",
       "  --sklearn-color-unfitted-level-0: #fff5e6;\n",
       "  --sklearn-color-unfitted-level-1: #f6e4d2;\n",
       "  --sklearn-color-unfitted-level-2: #ffe0b3;\n",
       "  --sklearn-color-unfitted-level-3: chocolate;\n",
       "  /* Definition of color scheme for fitted estimators */\n",
       "  --sklearn-color-fitted-level-0: #f0f8ff;\n",
       "  --sklearn-color-fitted-level-1: #d4ebff;\n",
       "  --sklearn-color-fitted-level-2: #b3dbfd;\n",
       "  --sklearn-color-fitted-level-3: cornflowerblue;\n",
       "\n",
       "  /* Specific color for light theme */\n",
       "  --sklearn-color-text-on-default-background: var(--sg-text-color, var(--theme-code-foreground, var(--jp-content-font-color1, black)));\n",
       "  --sklearn-color-background: var(--sg-background-color, var(--theme-background, var(--jp-layout-color0, white)));\n",
       "  --sklearn-color-border-box: var(--sg-text-color, var(--theme-code-foreground, var(--jp-content-font-color1, black)));\n",
       "  --sklearn-color-icon: #696969;\n",
       "\n",
       "  @media (prefers-color-scheme: dark) {\n",
       "    /* Redefinition of color scheme for dark theme */\n",
       "    --sklearn-color-text-on-default-background: var(--sg-text-color, var(--theme-code-foreground, var(--jp-content-font-color1, white)));\n",
       "    --sklearn-color-background: var(--sg-background-color, var(--theme-background, var(--jp-layout-color0, #111)));\n",
       "    --sklearn-color-border-box: var(--sg-text-color, var(--theme-code-foreground, var(--jp-content-font-color1, white)));\n",
       "    --sklearn-color-icon: #878787;\n",
       "  }\n",
       "}\n",
       "\n",
       "#sk-container-id-6 {\n",
       "  color: var(--sklearn-color-text);\n",
       "}\n",
       "\n",
       "#sk-container-id-6 pre {\n",
       "  padding: 0;\n",
       "}\n",
       "\n",
       "#sk-container-id-6 input.sk-hidden--visually {\n",
       "  border: 0;\n",
       "  clip: rect(1px 1px 1px 1px);\n",
       "  clip: rect(1px, 1px, 1px, 1px);\n",
       "  height: 1px;\n",
       "  margin: -1px;\n",
       "  overflow: hidden;\n",
       "  padding: 0;\n",
       "  position: absolute;\n",
       "  width: 1px;\n",
       "}\n",
       "\n",
       "#sk-container-id-6 div.sk-dashed-wrapped {\n",
       "  border: 1px dashed var(--sklearn-color-line);\n",
       "  margin: 0 0.4em 0.5em 0.4em;\n",
       "  box-sizing: border-box;\n",
       "  padding-bottom: 0.4em;\n",
       "  background-color: var(--sklearn-color-background);\n",
       "}\n",
       "\n",
       "#sk-container-id-6 div.sk-container {\n",
       "  /* jupyter's `normalize.less` sets `[hidden] { display: none; }`\n",
       "     but bootstrap.min.css set `[hidden] { display: none !important; }`\n",
       "     so we also need the `!important` here to be able to override the\n",
       "     default hidden behavior on the sphinx rendered scikit-learn.org.\n",
       "     See: https://github.com/scikit-learn/scikit-learn/issues/21755 */\n",
       "  display: inline-block !important;\n",
       "  position: relative;\n",
       "}\n",
       "\n",
       "#sk-container-id-6 div.sk-text-repr-fallback {\n",
       "  display: none;\n",
       "}\n",
       "\n",
       "div.sk-parallel-item,\n",
       "div.sk-serial,\n",
       "div.sk-item {\n",
       "  /* draw centered vertical line to link estimators */\n",
       "  background-image: linear-gradient(var(--sklearn-color-text-on-default-background), var(--sklearn-color-text-on-default-background));\n",
       "  background-size: 2px 100%;\n",
       "  background-repeat: no-repeat;\n",
       "  background-position: center center;\n",
       "}\n",
       "\n",
       "/* Parallel-specific style estimator block */\n",
       "\n",
       "#sk-container-id-6 div.sk-parallel-item::after {\n",
       "  content: \"\";\n",
       "  width: 100%;\n",
       "  border-bottom: 2px solid var(--sklearn-color-text-on-default-background);\n",
       "  flex-grow: 1;\n",
       "}\n",
       "\n",
       "#sk-container-id-6 div.sk-parallel {\n",
       "  display: flex;\n",
       "  align-items: stretch;\n",
       "  justify-content: center;\n",
       "  background-color: var(--sklearn-color-background);\n",
       "  position: relative;\n",
       "}\n",
       "\n",
       "#sk-container-id-6 div.sk-parallel-item {\n",
       "  display: flex;\n",
       "  flex-direction: column;\n",
       "}\n",
       "\n",
       "#sk-container-id-6 div.sk-parallel-item:first-child::after {\n",
       "  align-self: flex-end;\n",
       "  width: 50%;\n",
       "}\n",
       "\n",
       "#sk-container-id-6 div.sk-parallel-item:last-child::after {\n",
       "  align-self: flex-start;\n",
       "  width: 50%;\n",
       "}\n",
       "\n",
       "#sk-container-id-6 div.sk-parallel-item:only-child::after {\n",
       "  width: 0;\n",
       "}\n",
       "\n",
       "/* Serial-specific style estimator block */\n",
       "\n",
       "#sk-container-id-6 div.sk-serial {\n",
       "  display: flex;\n",
       "  flex-direction: column;\n",
       "  align-items: center;\n",
       "  background-color: var(--sklearn-color-background);\n",
       "  padding-right: 1em;\n",
       "  padding-left: 1em;\n",
       "}\n",
       "\n",
       "\n",
       "/* Toggleable style: style used for estimator/Pipeline/ColumnTransformer box that is\n",
       "clickable and can be expanded/collapsed.\n",
       "- Pipeline and ColumnTransformer use this feature and define the default style\n",
       "- Estimators will overwrite some part of the style using the `sk-estimator` class\n",
       "*/\n",
       "\n",
       "/* Pipeline and ColumnTransformer style (default) */\n",
       "\n",
       "#sk-container-id-6 div.sk-toggleable {\n",
       "  /* Default theme specific background. It is overwritten whether we have a\n",
       "  specific estimator or a Pipeline/ColumnTransformer */\n",
       "  background-color: var(--sklearn-color-background);\n",
       "}\n",
       "\n",
       "/* Toggleable label */\n",
       "#sk-container-id-6 label.sk-toggleable__label {\n",
       "  cursor: pointer;\n",
       "  display: block;\n",
       "  width: 100%;\n",
       "  margin-bottom: 0;\n",
       "  padding: 0.5em;\n",
       "  box-sizing: border-box;\n",
       "  text-align: center;\n",
       "}\n",
       "\n",
       "#sk-container-id-6 label.sk-toggleable__label-arrow:before {\n",
       "  /* Arrow on the left of the label */\n",
       "  content: \"▸\";\n",
       "  float: left;\n",
       "  margin-right: 0.25em;\n",
       "  color: var(--sklearn-color-icon);\n",
       "}\n",
       "\n",
       "#sk-container-id-6 label.sk-toggleable__label-arrow:hover:before {\n",
       "  color: var(--sklearn-color-text);\n",
       "}\n",
       "\n",
       "/* Toggleable content - dropdown */\n",
       "\n",
       "#sk-container-id-6 div.sk-toggleable__content {\n",
       "  max-height: 0;\n",
       "  max-width: 0;\n",
       "  overflow: hidden;\n",
       "  text-align: left;\n",
       "  /* unfitted */\n",
       "  background-color: var(--sklearn-color-unfitted-level-0);\n",
       "}\n",
       "\n",
       "#sk-container-id-6 div.sk-toggleable__content.fitted {\n",
       "  /* fitted */\n",
       "  background-color: var(--sklearn-color-fitted-level-0);\n",
       "}\n",
       "\n",
       "#sk-container-id-6 div.sk-toggleable__content pre {\n",
       "  margin: 0.2em;\n",
       "  border-radius: 0.25em;\n",
       "  color: var(--sklearn-color-text);\n",
       "  /* unfitted */\n",
       "  background-color: var(--sklearn-color-unfitted-level-0);\n",
       "}\n",
       "\n",
       "#sk-container-id-6 div.sk-toggleable__content.fitted pre {\n",
       "  /* unfitted */\n",
       "  background-color: var(--sklearn-color-fitted-level-0);\n",
       "}\n",
       "\n",
       "#sk-container-id-6 input.sk-toggleable__control:checked~div.sk-toggleable__content {\n",
       "  /* Expand drop-down */\n",
       "  max-height: 200px;\n",
       "  max-width: 100%;\n",
       "  overflow: auto;\n",
       "}\n",
       "\n",
       "#sk-container-id-6 input.sk-toggleable__control:checked~label.sk-toggleable__label-arrow:before {\n",
       "  content: \"▾\";\n",
       "}\n",
       "\n",
       "/* Pipeline/ColumnTransformer-specific style */\n",
       "\n",
       "#sk-container-id-6 div.sk-label input.sk-toggleable__control:checked~label.sk-toggleable__label {\n",
       "  color: var(--sklearn-color-text);\n",
       "  background-color: var(--sklearn-color-unfitted-level-2);\n",
       "}\n",
       "\n",
       "#sk-container-id-6 div.sk-label.fitted input.sk-toggleable__control:checked~label.sk-toggleable__label {\n",
       "  background-color: var(--sklearn-color-fitted-level-2);\n",
       "}\n",
       "\n",
       "/* Estimator-specific style */\n",
       "\n",
       "/* Colorize estimator box */\n",
       "#sk-container-id-6 div.sk-estimator input.sk-toggleable__control:checked~label.sk-toggleable__label {\n",
       "  /* unfitted */\n",
       "  background-color: var(--sklearn-color-unfitted-level-2);\n",
       "}\n",
       "\n",
       "#sk-container-id-6 div.sk-estimator.fitted input.sk-toggleable__control:checked~label.sk-toggleable__label {\n",
       "  /* fitted */\n",
       "  background-color: var(--sklearn-color-fitted-level-2);\n",
       "}\n",
       "\n",
       "#sk-container-id-6 div.sk-label label.sk-toggleable__label,\n",
       "#sk-container-id-6 div.sk-label label {\n",
       "  /* The background is the default theme color */\n",
       "  color: var(--sklearn-color-text-on-default-background);\n",
       "}\n",
       "\n",
       "/* On hover, darken the color of the background */\n",
       "#sk-container-id-6 div.sk-label:hover label.sk-toggleable__label {\n",
       "  color: var(--sklearn-color-text);\n",
       "  background-color: var(--sklearn-color-unfitted-level-2);\n",
       "}\n",
       "\n",
       "/* Label box, darken color on hover, fitted */\n",
       "#sk-container-id-6 div.sk-label.fitted:hover label.sk-toggleable__label.fitted {\n",
       "  color: var(--sklearn-color-text);\n",
       "  background-color: var(--sklearn-color-fitted-level-2);\n",
       "}\n",
       "\n",
       "/* Estimator label */\n",
       "\n",
       "#sk-container-id-6 div.sk-label label {\n",
       "  font-family: monospace;\n",
       "  font-weight: bold;\n",
       "  display: inline-block;\n",
       "  line-height: 1.2em;\n",
       "}\n",
       "\n",
       "#sk-container-id-6 div.sk-label-container {\n",
       "  text-align: center;\n",
       "}\n",
       "\n",
       "/* Estimator-specific */\n",
       "#sk-container-id-6 div.sk-estimator {\n",
       "  font-family: monospace;\n",
       "  border: 1px dotted var(--sklearn-color-border-box);\n",
       "  border-radius: 0.25em;\n",
       "  box-sizing: border-box;\n",
       "  margin-bottom: 0.5em;\n",
       "  /* unfitted */\n",
       "  background-color: var(--sklearn-color-unfitted-level-0);\n",
       "}\n",
       "\n",
       "#sk-container-id-6 div.sk-estimator.fitted {\n",
       "  /* fitted */\n",
       "  background-color: var(--sklearn-color-fitted-level-0);\n",
       "}\n",
       "\n",
       "/* on hover */\n",
       "#sk-container-id-6 div.sk-estimator:hover {\n",
       "  /* unfitted */\n",
       "  background-color: var(--sklearn-color-unfitted-level-2);\n",
       "}\n",
       "\n",
       "#sk-container-id-6 div.sk-estimator.fitted:hover {\n",
       "  /* fitted */\n",
       "  background-color: var(--sklearn-color-fitted-level-2);\n",
       "}\n",
       "\n",
       "/* Specification for estimator info (e.g. \"i\" and \"?\") */\n",
       "\n",
       "/* Common style for \"i\" and \"?\" */\n",
       "\n",
       ".sk-estimator-doc-link,\n",
       "a:link.sk-estimator-doc-link,\n",
       "a:visited.sk-estimator-doc-link {\n",
       "  float: right;\n",
       "  font-size: smaller;\n",
       "  line-height: 1em;\n",
       "  font-family: monospace;\n",
       "  background-color: var(--sklearn-color-background);\n",
       "  border-radius: 1em;\n",
       "  height: 1em;\n",
       "  width: 1em;\n",
       "  text-decoration: none !important;\n",
       "  margin-left: 1ex;\n",
       "  /* unfitted */\n",
       "  border: var(--sklearn-color-unfitted-level-1) 1pt solid;\n",
       "  color: var(--sklearn-color-unfitted-level-1);\n",
       "}\n",
       "\n",
       ".sk-estimator-doc-link.fitted,\n",
       "a:link.sk-estimator-doc-link.fitted,\n",
       "a:visited.sk-estimator-doc-link.fitted {\n",
       "  /* fitted */\n",
       "  border: var(--sklearn-color-fitted-level-1) 1pt solid;\n",
       "  color: var(--sklearn-color-fitted-level-1);\n",
       "}\n",
       "\n",
       "/* On hover */\n",
       "div.sk-estimator:hover .sk-estimator-doc-link:hover,\n",
       ".sk-estimator-doc-link:hover,\n",
       "div.sk-label-container:hover .sk-estimator-doc-link:hover,\n",
       ".sk-estimator-doc-link:hover {\n",
       "  /* unfitted */\n",
       "  background-color: var(--sklearn-color-unfitted-level-3);\n",
       "  color: var(--sklearn-color-background);\n",
       "  text-decoration: none;\n",
       "}\n",
       "\n",
       "div.sk-estimator.fitted:hover .sk-estimator-doc-link.fitted:hover,\n",
       ".sk-estimator-doc-link.fitted:hover,\n",
       "div.sk-label-container:hover .sk-estimator-doc-link.fitted:hover,\n",
       ".sk-estimator-doc-link.fitted:hover {\n",
       "  /* fitted */\n",
       "  background-color: var(--sklearn-color-fitted-level-3);\n",
       "  color: var(--sklearn-color-background);\n",
       "  text-decoration: none;\n",
       "}\n",
       "\n",
       "/* Span, style for the box shown on hovering the info icon */\n",
       ".sk-estimator-doc-link span {\n",
       "  display: none;\n",
       "  z-index: 9999;\n",
       "  position: relative;\n",
       "  font-weight: normal;\n",
       "  right: .2ex;\n",
       "  padding: .5ex;\n",
       "  margin: .5ex;\n",
       "  width: min-content;\n",
       "  min-width: 20ex;\n",
       "  max-width: 50ex;\n",
       "  color: var(--sklearn-color-text);\n",
       "  box-shadow: 2pt 2pt 4pt #999;\n",
       "  /* unfitted */\n",
       "  background: var(--sklearn-color-unfitted-level-0);\n",
       "  border: .5pt solid var(--sklearn-color-unfitted-level-3);\n",
       "}\n",
       "\n",
       ".sk-estimator-doc-link.fitted span {\n",
       "  /* fitted */\n",
       "  background: var(--sklearn-color-fitted-level-0);\n",
       "  border: var(--sklearn-color-fitted-level-3);\n",
       "}\n",
       "\n",
       ".sk-estimator-doc-link:hover span {\n",
       "  display: block;\n",
       "}\n",
       "\n",
       "/* \"?\"-specific style due to the `<a>` HTML tag */\n",
       "\n",
       "#sk-container-id-6 a.estimator_doc_link {\n",
       "  float: right;\n",
       "  font-size: 1rem;\n",
       "  line-height: 1em;\n",
       "  font-family: monospace;\n",
       "  background-color: var(--sklearn-color-background);\n",
       "  border-radius: 1rem;\n",
       "  height: 1rem;\n",
       "  width: 1rem;\n",
       "  text-decoration: none;\n",
       "  /* unfitted */\n",
       "  color: var(--sklearn-color-unfitted-level-1);\n",
       "  border: var(--sklearn-color-unfitted-level-1) 1pt solid;\n",
       "}\n",
       "\n",
       "#sk-container-id-6 a.estimator_doc_link.fitted {\n",
       "  /* fitted */\n",
       "  border: var(--sklearn-color-fitted-level-1) 1pt solid;\n",
       "  color: var(--sklearn-color-fitted-level-1);\n",
       "}\n",
       "\n",
       "/* On hover */\n",
       "#sk-container-id-6 a.estimator_doc_link:hover {\n",
       "  /* unfitted */\n",
       "  background-color: var(--sklearn-color-unfitted-level-3);\n",
       "  color: var(--sklearn-color-background);\n",
       "  text-decoration: none;\n",
       "}\n",
       "\n",
       "#sk-container-id-6 a.estimator_doc_link.fitted:hover {\n",
       "  /* fitted */\n",
       "  background-color: var(--sklearn-color-fitted-level-3);\n",
       "}\n",
       "</style><div id=\"sk-container-id-6\" class=\"sk-top-container\"><div class=\"sk-text-repr-fallback\"><pre>Pipeline(steps=[(&#x27;rescaler&#x27;, MinMaxScaler()),\n",
       "                (&#x27;poly_transformer&#x27;,\n",
       "                 PolynomialFeatures(degree=1, include_bias=False)),\n",
       "                (&#x27;linear_regr&#x27;, LinearRegression())])</pre><b>In a Jupyter environment, please rerun this cell to show the HTML representation or trust the notebook. <br />On GitHub, the HTML representation is unable to render, please try loading this page with nbviewer.org.</b></div><div class=\"sk-container\" hidden><div class=\"sk-item sk-dashed-wrapped\"><div class=\"sk-label-container\"><div class=\"sk-label fitted sk-toggleable\"><input class=\"sk-toggleable__control sk-hidden--visually\" id=\"sk-estimator-id-21\" type=\"checkbox\" ><label for=\"sk-estimator-id-21\" class=\"sk-toggleable__label fitted sk-toggleable__label-arrow fitted\">&nbsp;&nbsp;Pipeline<a class=\"sk-estimator-doc-link fitted\" rel=\"noreferrer\" target=\"_blank\" href=\"https://scikit-learn.org/1.5/modules/generated/sklearn.pipeline.Pipeline.html\">?<span>Documentation for Pipeline</span></a><span class=\"sk-estimator-doc-link fitted\">i<span>Fitted</span></span></label><div class=\"sk-toggleable__content fitted\"><pre>Pipeline(steps=[(&#x27;rescaler&#x27;, MinMaxScaler()),\n",
       "                (&#x27;poly_transformer&#x27;,\n",
       "                 PolynomialFeatures(degree=1, include_bias=False)),\n",
       "                (&#x27;linear_regr&#x27;, LinearRegression())])</pre></div> </div></div><div class=\"sk-serial\"><div class=\"sk-item\"><div class=\"sk-estimator fitted sk-toggleable\"><input class=\"sk-toggleable__control sk-hidden--visually\" id=\"sk-estimator-id-22\" type=\"checkbox\" ><label for=\"sk-estimator-id-22\" class=\"sk-toggleable__label fitted sk-toggleable__label-arrow fitted\">&nbsp;MinMaxScaler<a class=\"sk-estimator-doc-link fitted\" rel=\"noreferrer\" target=\"_blank\" href=\"https://scikit-learn.org/1.5/modules/generated/sklearn.preprocessing.MinMaxScaler.html\">?<span>Documentation for MinMaxScaler</span></a></label><div class=\"sk-toggleable__content fitted\"><pre>MinMaxScaler()</pre></div> </div></div><div class=\"sk-item\"><div class=\"sk-estimator fitted sk-toggleable\"><input class=\"sk-toggleable__control sk-hidden--visually\" id=\"sk-estimator-id-23\" type=\"checkbox\" ><label for=\"sk-estimator-id-23\" class=\"sk-toggleable__label fitted sk-toggleable__label-arrow fitted\">&nbsp;PolynomialFeatures<a class=\"sk-estimator-doc-link fitted\" rel=\"noreferrer\" target=\"_blank\" href=\"https://scikit-learn.org/1.5/modules/generated/sklearn.preprocessing.PolynomialFeatures.html\">?<span>Documentation for PolynomialFeatures</span></a></label><div class=\"sk-toggleable__content fitted\"><pre>PolynomialFeatures(degree=1, include_bias=False)</pre></div> </div></div><div class=\"sk-item\"><div class=\"sk-estimator fitted sk-toggleable\"><input class=\"sk-toggleable__control sk-hidden--visually\" id=\"sk-estimator-id-24\" type=\"checkbox\" ><label for=\"sk-estimator-id-24\" class=\"sk-toggleable__label fitted sk-toggleable__label-arrow fitted\">&nbsp;LinearRegression<a class=\"sk-estimator-doc-link fitted\" rel=\"noreferrer\" target=\"_blank\" href=\"https://scikit-learn.org/1.5/modules/generated/sklearn.linear_model.LinearRegression.html\">?<span>Documentation for LinearRegression</span></a></label><div class=\"sk-toggleable__content fitted\"><pre>LinearRegression()</pre></div> </div></div></div></div></div></div>"
      ],
      "text/plain": [
       "Pipeline(steps=[('rescaler', MinMaxScaler()),\n",
       "                ('poly_transformer',\n",
       "                 PolynomialFeatures(degree=1, include_bias=False)),\n",
       "                ('linear_regr', LinearRegression())])"
      ]
     },
     "execution_count": 221,
     "metadata": {},
     "output_type": "execute_result"
    }
   ],
   "source": [
    "# create a pipeline using features with current degree value\n",
    "deg_1_pipeline = make_pipeline__unpenalized_linear_regr_with_poly_feats(1)\n",
    "\n",
    "# fit this pipeline on provided training data\n",
    "deg_1_pipeline.fit(x_tr_MF, y_tr_M)\n"
   ]
  },
  {
   "cell_type": "markdown",
   "metadata": {},
   "source": [
    "### Short Answer 1a\n",
    "\n",
    "Provide the weight coefficient values (to 2 decimal places) for your degree = 1 model"
   ]
  },
  {
   "cell_type": "code",
   "execution_count": 222,
   "metadata": {},
   "outputs": [
    {
     "name": "stdout",
     "output_type": "stream",
     "text": [
      "['horsepower', 'weight', 'cylinders', 'displacement']\n"
     ]
    }
   ],
   "source": [
    "# Hint: The names of the original F=4 features are already in your workspace\n",
    "print(xcolnames_F)"
   ]
  },
  {
   "cell_type": "code",
   "execution_count": 223,
   "metadata": {},
   "outputs": [
    {
     "name": "stdout",
     "output_type": "stream",
     "text": [
      " -10.43 : x0\n",
      " -18.23 : x1\n",
      "  -1.15 : x2\n",
      "   0.58 : x3\n",
      "where \n",
      "x0 = horsepower\n",
      "x1 = weight\n",
      "x2 = cylinders\n",
      "x3 = displacement\n"
     ]
    }
   ],
   "source": [
    "# call pretty_print_learned_weights on your pipeline with degree=1 from\n",
    "# above\n",
    "pretty_print_learned_weights(deg_1_pipeline, xcolnames_F)\n",
    "# Copy these results neatly into your report"
   ]
  },
  {
   "cell_type": "markdown",
   "metadata": {},
   "source": [
    "### Short Answer 1b"
   ]
  },
  {
   "cell_type": "markdown",
   "metadata": {},
   "source": [
    "What monotonic relationship does this degree=1 linear model imply about:\n",
    "\n",
    "* case 1: how engine *weight* impacts efficiency (in mpg)\n",
    "* case 2: how *displacement* impacts efficiency (in mpg)\n",
    "\n",
    "Does the model's implied direction of these relationships agree with your common sense? With this dataset? Why or why not?\n",
    "\n",
    "*Hint*: Recall that [engine displacement](https://en.wikipedia.org/wiki/Engine_displacement) refers to the overall volume of air that can move through the engine. Larger engine means larger displacement."
   ]
  },
  {
   "cell_type": "code",
   "execution_count": 224,
   "metadata": {},
   "outputs": [],
   "source": [
    "# WRITE ANSWER IN YOUR REPORT!"
   ]
  },
  {
   "cell_type": "markdown",
   "metadata": {},
   "source": [
    "### Implementation 1B\n",
    "\n",
    "Fit models with degree 2 and 4. \n",
    "\n",
    "Inspect the overall *number* of learned weights, as well as the values of the weights."
   ]
  },
  {
   "cell_type": "code",
   "execution_count": 225,
   "metadata": {},
   "outputs": [
    {
     "name": "stdout",
     "output_type": "stream",
     "text": [
      "degree=2\n",
      " -40.72 : x0\n",
      "  -7.20 : x1\n",
      " -11.00 : x2\n",
      " -11.10 : x3\n",
      "  -4.45 : x0^2\n",
      "   8.80 : x0 x1\n",
      "  26.38 : x0 x2\n",
      "   8.98 : x0 x3\n",
      " -31.77 : x1^2\n",
      "  27.17 : x1 x2\n",
      "  13.43 : x1 x3\n",
      "  21.76 : x2^2\n",
      " -80.86 : x2 x3\n",
      "  52.65 : x3^2\n",
      "where \n",
      "x0 = horsepower\n",
      "x1 = weight\n",
      "x2 = cylinders\n",
      "x3 = displacement\n",
      "degree=4\n",
      " 617.45 : x0\n",
      "-191.08 : x1\n",
      " 1774.24 : x2\n",
      "-1343.56 : x3\n",
      " 159.25 : x0^2\n",
      "-323.66 : x0 x1\n",
      "-5179.64 : x0 x2\n",
      " 198.45 : x0 x3\n",
      "  61.37 : x1^2\n",
      " 2573.25 : x1 x2\n",
      "-1596.95 : x1 x3\n",
      "-5943.40 : x2^2\n",
      " 7359.52 : x2 x3\n",
      " 2883.15 : x3^2\n",
      "-630.58 : x0^3\n",
      " 1377.51 : x0^2 x1\n",
      "-1600.47 : x0^2 x2\n",
      " 1529.25 : x0^2 x3\n",
      "-105.12 : x0 x1^2\n",
      "-7880.76 : x0 x1 x2\n",
      " 12085.95 : x0 x1 x3\n",
      " 13051.50 : x0 x2^2\n",
      " 5626.91 : x0 x2 x3\n",
      "-14222.70 : x0 x3^2\n",
      " 611.22 : x1^3\n",
      "-1478.94 : x1^2 x2\n",
      "-359.76 : x1^2 x3\n",
      "-7343.55 : x1 x2^2\n",
      " 17674.97 : x1 x2 x3\n",
      "-13648.53 : x1 x3^2\n",
      " 4525.05 : x2^3\n",
      "  47.94 : x2^2 x3\n",
      "-34068.88 : x2 x3^2\n",
      " 20804.11 : x3^3\n",
      "-345.94 : x0^4\n",
      " 1047.47 : x0^3 x1\n",
      " 133.89 : x0^3 x2\n",
      " 702.32 : x0^3 x3\n",
      " 1031.68 : x0^2 x1^2\n",
      " 3678.25 : x0^2 x1 x2\n",
      "-11633.91 : x0^2 x1 x3\n",
      "-1147.94 : x0^2 x2^2\n",
      " 1506.00 : x0^2 x2 x3\n",
      " 3042.21 : x0^2 x3^2\n",
      "-5637.55 : x0 x1^3\n",
      " 3990.55 : x0 x1^2 x2\n",
      " 7624.03 : x0 x1^2 x3\n",
      " 12467.48 : x0 x1 x2^2\n",
      "-36650.46 : x0 x1 x2 x3\n",
      " 19120.42 : x0 x1 x3^2\n",
      "-6959.36 : x0 x2^3\n",
      "-12414.29 : x0 x2^2 x3\n",
      " 31670.59 : x0 x2 x3^2\n",
      "-15448.88 : x0 x3^3\n",
      "-524.40 : x1^4\n",
      "-3360.09 : x1^3 x2\n",
      " 9784.64 : x1^3 x3\n",
      " 4470.47 : x1^2 x2^2\n",
      "-2283.03 : x1^2 x2 x3\n",
      "-14453.48 : x1^2 x3^2\n",
      " 6639.92 : x1 x2^3\n",
      "-33016.35 : x1 x2^2 x3\n",
      " 48066.73 : x1 x2 x3^2\n",
      "-11747.60 : x1 x3^3\n",
      " 602.53 : x2^4\n",
      "-12796.21 : x2^3 x3\n",
      " 55023.35 : x2^2 x3^2\n",
      "-56683.53 : x2 x3^3\n",
      " 17563.69 : x3^4\n",
      "where \n",
      "x0 = horsepower\n",
      "x1 = weight\n",
      "x2 = cylinders\n",
      "x3 = displacement\n"
     ]
    }
   ],
   "source": [
    "for degree in [2, 4]:\n",
    "    print(f\"degree={degree}\")\n",
    "    # create a pipeline using features with current degree value\n",
    "    deg_pipeline = make_pipeline__unpenalized_linear_regr_with_poly_feats(degree)\n",
    "    \n",
    "    # fit this pipeline on provided training data\n",
    "    deg_pipeline.fit(x_tr_MF, y_tr_M)\n",
    "    # call pretty_print_learned_weights\n",
    "    pretty_print_learned_weights(deg_pipeline, xcolnames_F)\n"
   ]
  },
  {
   "cell_type": "markdown",
   "metadata": {},
   "source": [
    "### Short Answer 1c\n",
    "\n",
    "What do you notice about the weight values for degree 4 compared to the values with degree 1 or 2?\n"
   ]
  },
  {
   "cell_type": "code",
   "execution_count": 226,
   "metadata": {},
   "outputs": [],
   "source": [
    "# WRITE ANSWER IN YOUR REPORT!"
   ]
  },
  {
   "cell_type": "markdown",
   "metadata": {},
   "source": [
    "### Implementation 1C\n",
    "\n",
    "We'll now perform a \"complete\" experiment for our `fv` (fixed validation set) pipeline with unpenalized linear regression.\n",
    "\n",
    "We want to try all possible degrees in [1, 2, 3, 4, 5, 6, 7]\n",
    "\n",
    "For each one, we'll build a fresh pipeline, fit the model of specified degree, and record the *train* error and the *validation* error."
   ]
  },
  {
   "cell_type": "code",
   "execution_count": 227,
   "metadata": {},
   "outputs": [],
   "source": [
    "degree_list = [1, 2, 3, 4, 5, 6, 7]\n",
    "fv_err_tr_list = []\n",
    "fv_err_va_list = []\n",
    "\n",
    "fv_pipeline_list = []\n",
    "for degree in degree_list:\n",
    "\n",
    "    # create a pipeline using features with current degree value\n",
    "    deg_pipeline = make_pipeline__unpenalized_linear_regr_with_poly_feats(degree)\n",
    "    # train this pipeline on provided training data\n",
    "    deg_pipeline.fit(x_tr_MF, y_tr_M)\n",
    "    \n",
    "    # Compute training error\n",
    "    yhat_tr_M = sanitize(deg_pipeline.predict(x_tr_MF)) # be sure to sanitize predictions\n",
    "    yhat_va_N = sanitize(deg_pipeline.predict(x_va_NF))  # be sure to sanitize predictions\n",
    "\n",
    "    err_tr = calc_root_mean_squared_error(y_tr_M, yhat_tr_M)\n",
    "    err_va = calc_root_mean_squared_error(y_va_N, yhat_va_N)\n",
    "\n",
    "    fv_err_tr_list.append(err_tr)\n",
    "    fv_err_va_list.append(err_va)\n",
    "    \n",
    "    # store current pipeline for future use\n",
    "    fv_pipeline_list.append(deg_pipeline)"
   ]
  },
  {
   "cell_type": "markdown",
   "metadata": {},
   "source": [
    "### Figure 1: Error vs degree"
   ]
  },
  {
   "cell_type": "code",
   "execution_count": 228,
   "metadata": {},
   "outputs": [
    {
     "data": {
      "image/png": "[encoded data removed]",
      "text/plain": [
       "<Figure size 640x480 with 1 Axes>"
      ]
     },
     "metadata": {},
     "output_type": "display_data"
    }
   ],
   "source": [
    "plot_train_and_valid_error_vs_hyper(\n",
    "    degree_list, fv_err_tr_list, fv_err_va_list, leg_loc='upper left');\n",
    "plt.title('RMSE vs. Degree');"
   ]
  },
  {
   "cell_type": "markdown",
   "metadata": {},
   "source": [
    "### Short Answer 1d"
   ]
  },
  {
   "cell_type": "markdown",
   "metadata": {},
   "source": [
    "For this provided training set, what do you notice happens to training error between degree 6 and degree 7. Does this agree with the conceptual understanding from day03 about how training error behaves as a function of $N$ and number of regression features $F$?"
   ]
  },
  {
   "cell_type": "code",
   "execution_count": 229,
   "metadata": {},
   "outputs": [],
   "source": [
    "# WRITE ANSWER IN YOUR REPORT!"
   ]
  },
  {
   "cell_type": "markdown",
   "metadata": {},
   "source": [
    "### Implementation 1D: Score on the test set using the chosen model\n",
    "\n",
    "Select the model hyperparameters that *minimize* your fixed validation set error. Using your already-trained LinearRegression model with these best hyperparameters, compute error on the *test* set. Save this test set error value for later."
   ]
  },
  {
   "cell_type": "code",
   "execution_count": 230,
   "metadata": {},
   "outputs": [
    {
     "name": "stdout",
     "output_type": "stream",
     "text": [
      "Selected Parameters:\n",
      " -40.72 : x0\n",
      "  -7.20 : x1\n",
      " -11.00 : x2\n",
      " -11.10 : x3\n",
      "  -4.45 : x0^2\n",
      "   8.80 : x0 x1\n",
      "  26.38 : x0 x2\n",
      "   8.98 : x0 x3\n",
      " -31.77 : x1^2\n",
      "  27.17 : x1 x2\n",
      "  13.43 : x1 x3\n",
      "  21.76 : x2^2\n",
      " -80.86 : x2 x3\n",
      "  52.65 : x3^2\n",
      "where \n",
      "x0 = horsepower\n",
      "x1 = weight\n",
      "x2 = cylinders\n",
      "x3 = displacement\n",
      "Fixed validation set estimate of heldout error:\n",
      "3.974075330754534\n",
      "Error on the test-set:\n",
      "3.99150254645676\n"
     ]
    }
   ],
   "source": [
    "print(\"Selected Parameters:\")\n",
    "# Choosing degree 2, with 0-indexing\n",
    "DEGREE = 2 - 1\n",
    "pretty_print_learned_weights(fv_pipeline_list[DEGREE], xcolnames_F)\n",
    "print(\"Fixed validation set estimate of heldout error:\")\n",
    "print(f'{fv_err_va_list[DEGREE]}')\n",
    "print(\"Error on the test-set:\")\n",
    "yhat_P = fv_pipeline_list[DEGREE].predict(x_te_PF)\n",
    "model1_test_error = calc_root_mean_squared_error(y_te_P, yhat_P)\n",
    "print(model1_test_error)"
   ]
  },
  {
   "cell_type": "code",
   "execution_count": 231,
   "metadata": {},
   "outputs": [],
   "source": [
    "# store score on test set for later\n",
    "\n",
    "model1_err_tr = fv_err_tr_list[DEGREE]\n",
    "model1_err_va = fv_err_va_list[DEGREE]\n",
    "model1_err_te = model1_test_error"
   ]
  },
  {
   "cell_type": "markdown",
   "metadata": {},
   "source": [
    "### Implementation 1E\n",
    "\n",
    "We'll now try to repeat the above *without* the MinMaxScalar preprocessing step. \n",
    "\n",
    "Part 1:\n",
    "\n",
    "* Make a copy of make_pipeline__unpenalized_linear_regr_with_poly_feats, call it make_pipeline__bad\n",
    "* Edit the function so it does not perform MinMaxScalar, but does everything else as before.\n",
    "\n",
    "Part 2:\n",
    "\n",
    "* Fit a pipeline without preprocessing at each degree value [1, 2, ... 7]\n",
    "* Record the train error at each degree value\n",
    "\n",
    "\n"
   ]
  },
  {
   "cell_type": "code",
   "execution_count": 232,
   "metadata": {},
   "outputs": [
    {
     "data": {
      "image/png": "[encoded data removed]",
      "text/plain": [
       "<Figure size 640x480 with 1 Axes>"
      ]
     },
     "metadata": {},
     "output_type": "display_data"
    }
   ],
   "source": [
    "def make_pipeline__bad(degree=1):\n",
    "    pipeline = sklearn.pipeline.Pipeline(\n",
    "        steps=[\n",
    "         ('poly_transformer', sklearn.preprocessing.PolynomialFeatures(degree=degree, include_bias=False)),\n",
    "         ('linear_regr', sklearn.linear_model.LinearRegression()),\n",
    "        ])\n",
    "    \n",
    "    # Return the constructed pipeline\n",
    "    # We can treat it as if it has a 'regression' API\n",
    "    # e.g. a fit and a predict method\n",
    "    return pipeline\n",
    "\n",
    "fv_nominmax_err_tr_list = []\n",
    "fv_nominmax_err_va_list = []\n",
    "\n",
    "fv_nominmax_pipeline_list = []\n",
    "for degree in degree_list:\n",
    "\n",
    "    # create a pipeline using features with current degree value\n",
    "    deg_pipeline = make_pipeline__bad(degree)\n",
    "    # train this pipeline on provided training data\n",
    "    deg_pipeline.fit(x_tr_MF, y_tr_M)\n",
    "    \n",
    "    # Compute training error\n",
    "    yhat_tr_M = sanitize(deg_pipeline.predict(x_tr_MF)) # be sure to sanitize predictions\n",
    "    yhat_va_N = sanitize(deg_pipeline.predict(x_va_NF))  # be sure to sanitize predictions\n",
    "\n",
    "    err_tr = calc_root_mean_squared_error(y_tr_M, yhat_tr_M)\n",
    "    err_va = calc_root_mean_squared_error(y_va_N, yhat_va_N)\n",
    "\n",
    "    fv_nominmax_err_tr_list.append(err_tr)\n",
    "    fv_nominmax_err_va_list.append(err_va)\n",
    "    \n",
    "    # store current pipeline for future use\n",
    "    fv_nominmax_pipeline_list.append(deg_pipeline)\n",
    "    \n",
    "plot_train_and_valid_error_vs_hyper(\n",
    "    degree_list, fv_nominmax_err_tr_list, leg_loc='upper left');\n",
    "plt.title('RMSE vs. Degree');"
   ]
  },
  {
   "cell_type": "markdown",
   "metadata": {},
   "source": [
    "### Short Answer 1e\n",
    "\n",
    "What happens to train error as a function of degree when the MinMaxScalar preprocessing step is omitted? Can we make sense of this trend using the concept of overfitting, or is there some other explanation? For a LR model with polynomial features and degree above 2, why is it useful to rescale each feature column to be in the interval 0 to 1?\n"
   ]
  },
  {
   "cell_type": "code",
   "execution_count": 233,
   "metadata": {},
   "outputs": [],
   "source": [
    "# WRITE ANSWER IN YOUR REPORT!"
   ]
  },
  {
   "cell_type": "markdown",
   "metadata": {},
   "source": [
    "# Problem 2: Alpha Selection on Fixed Val Set"
   ]
  },
  {
   "cell_type": "code",
   "execution_count": 234,
   "metadata": {},
   "outputs": [
    {
     "name": "stdout",
     "output_type": "stream",
     "text": [
      "[1.e-10 1.e-08 1.e-06 1.e-04 1.e-02 1.e+00 1.e+02 1.e+04 1.e+06]\n"
     ]
    }
   ],
   "source": [
    "my_degree = 4\n",
    "alpha_list = np.asarray([1.e-10, 1.e-08, 1.e-06, 1.e-04, 1.e-02, 1.e+00, 1.e+02, 1.e+04, 1.e+06])\n",
    "print(alpha_list)"
   ]
  },
  {
   "cell_type": "markdown",
   "metadata": {},
   "source": [
    "### Implementation 2A"
   ]
  },
  {
   "cell_type": "code",
   "execution_count": 235,
   "metadata": {},
   "outputs": [],
   "source": [
    "fv2_err_tr_list = []\n",
    "fv2_err_va_list = []\n",
    "fv2_pipeline_list = []\n",
    "\n",
    "for alpha in alpha_list:\n",
    "\n",
    "    # create a pipeline using features with current degree value\n",
    "    deg4_alpha_pipeline = make_pipeline__ridge_linear_regr_with_poly_feats(my_degree, alpha)\n",
    "    # train this pipeline on provided training data\n",
    "    deg4_alpha_pipeline.fit(x_tr_MF, y_tr_M)\n",
    "\n",
    "    yhat_tr_M = sanitize(deg4_alpha_pipeline.predict(x_tr_MF))  \n",
    "    yhat_va_N = sanitize(deg4_alpha_pipeline.predict(x_va_NF))\n",
    "    assert np.all(yhat_va_N >= 0.0)\n",
    "    assert np.all(yhat_va_N <= Y_MAX)\n",
    "    \n",
    "    err_tr = calc_root_mean_squared_error(y_tr_M, yhat_tr_M)\n",
    "    err_va = calc_root_mean_squared_error(y_va_N, yhat_va_N)\n",
    "\n",
    "    fv2_err_tr_list.append(err_tr)\n",
    "    fv2_err_va_list.append(err_va)\n",
    "\n",
    "    fv2_pipeline_list.append(deg4_alpha_pipeline)\n",
    "    # store current pipeline for future use"
   ]
  },
  {
   "cell_type": "markdown",
   "metadata": {},
   "source": [
    "### Figure 2 in report\n",
    "\n",
    "Make a line plot of mean-squared error on y-axis vs. alpha on x-axis."
   ]
  },
  {
   "cell_type": "code",
   "execution_count": 236,
   "metadata": {},
   "outputs": [
    {
     "data": {
      "image/png": "[encoded data removed]",
      "text/plain": [
       "<Figure size 640x480 with 1 Axes>"
      ]
     },
     "metadata": {},
     "output_type": "display_data"
    }
   ],
   "source": [
    "plot_train_and_valid_error_vs_hyper(\n",
    "    alpha_list, fv2_err_tr_list, fv2_err_va_list,\n",
    "    xlabel='alpha (L2 penalty)', leg_loc='upper left');\n",
    "plt.gca().set_ylim([0, 10]);\n",
    "plt.gca().set_xscale('log');\n",
    "plt.title('Error vs. Alpha');"
   ]
  },
  {
   "cell_type": "markdown",
   "metadata": {},
   "source": [
    "### Implementation Step 2B\n",
    "\n",
    "Select the model hyperparameters that *minimize* your fixed validation set error. Using your already-trained model with these best hyperparameters, compute error on the *test* set. \n"
   ]
  },
  {
   "cell_type": "code",
   "execution_count": 237,
   "metadata": {},
   "outputs": [
    {
     "name": "stdout",
     "output_type": "stream",
     "text": [
      "Selected Parameters:\n",
      "ARGMIN is at 4 with value 3.9313878334812333 alpha is 0.01\n",
      " -39.88 : x0\n",
      "   1.56 : x1\n",
      "  14.71 : x2\n",
      " -13.32 : x3\n",
      "  -6.53 : x0^2\n",
      "  -5.93 : x0 x1\n",
      "  21.96 : x0 x2\n",
      "  24.36 : x0 x3\n",
      " -22.82 : x1^2\n",
      "   2.39 : x1 x2\n",
      "  -2.18 : x1 x3\n",
      " -19.42 : x2^2\n",
      " -26.81 : x2 x3\n",
      "   3.47 : x3^2\n",
      "   9.93 : x0^3\n",
      "   5.41 : x0^2 x1\n",
      "   9.37 : x0^2 x2\n",
      "  14.07 : x0^2 x3\n",
      "   8.22 : x0 x1^2\n",
      "   7.41 : x0 x1 x2\n",
      "  12.85 : x0 x1 x3\n",
      "   0.12 : x0 x2^2\n",
      "  -1.49 : x0 x2 x3\n",
      "   0.97 : x0 x3^2\n",
      "  -5.93 : x1^3\n",
      "  -2.12 : x1^2 x2\n",
      "  -2.79 : x1^2 x3\n",
      "   0.19 : x1 x2^2\n",
      "  -2.80 : x1 x2 x3\n",
      "  -0.49 : x1 x3^2\n",
      "  -4.76 : x2^3\n",
      "  -3.17 : x2^2 x3\n",
      "   3.10 : x2 x3^2\n",
      "   5.33 : x3^3\n",
      "   5.15 : x0^4\n",
      "  -4.71 : x0^3 x1\n",
      "  -1.87 : x0^3 x2\n",
      "   5.64 : x0^3 x3\n",
      "  -2.97 : x0^2 x1^2\n",
      "  -5.04 : x0^2 x1 x2\n",
      "   1.79 : x0^2 x1 x3\n",
      " -10.96 : x0^2 x2^2\n",
      "  -4.93 : x0^2 x2 x3\n",
      "  -3.79 : x0^2 x3^2\n",
      "   4.44 : x0 x1^3\n",
      "   2.40 : x0 x1^2 x2\n",
      "   5.23 : x0 x1^2 x3\n",
      "  -4.37 : x0 x1 x2^2\n",
      "  -0.25 : x0 x1 x2 x3\n",
      "  -1.68 : x0 x1 x3^2\n",
      " -16.61 : x0 x2^3\n",
      " -11.02 : x0 x2^2 x3\n",
      " -10.19 : x0 x2 x3^2\n",
      " -13.04 : x0 x3^3\n",
      "   2.39 : x1^4\n",
      "   3.05 : x1^3 x2\n",
      "   0.24 : x1^3 x3\n",
      "   2.79 : x1^2 x2^2\n",
      "   1.78 : x1^2 x2 x3\n",
      "  -2.91 : x1^2 x3^2\n",
      "   4.22 : x1 x2^3\n",
      "   6.13 : x1 x2^2 x3\n",
      "   2.56 : x1 x2 x3^2\n",
      "  -4.81 : x1 x3^3\n",
      "  12.25 : x2^4\n",
      "  17.03 : x2^3 x3\n",
      "  14.30 : x2^2 x3^2\n",
      "   6.02 : x2 x3^3\n",
      "  -4.64 : x3^4\n",
      "where \n",
      "x0 = horsepower\n",
      "x1 = weight\n",
      "x2 = cylinders\n",
      "x3 = displacement\n",
      "Fixed validation set estimate of heldout error:\n",
      "3.9313878334812333\n",
      "Error on the test-set:\n",
      "3.8776678604038004\n"
     ]
    }
   ],
   "source": [
    "print(\"Selected Parameters:\")\n",
    "# Choosing alpha_list[4]\n",
    "print(f'ARGMIN is at {np.argmin(fv2_err_va_list)} with value {np.min(fv2_err_va_list)} alpha is {alpha_list[4]}')\n",
    "ALPHA_IDX = 4\n",
    "pretty_print_learned_weights(fv2_pipeline_list[ALPHA_IDX],xcolnames_F)\n",
    "print(\"Fixed validation set estimate of heldout error:\")\n",
    "print(f'{fv2_err_va_list[ALPHA_IDX]}')\n",
    "print(\"Error on the test-set:\")\n",
    "yhat_P = fv2_pipeline_list[ALPHA_IDX].predict(x_te_PF)\n",
    "model2_test_error = calc_root_mean_squared_error(y_te_P, yhat_P)\n",
    "print(model2_test_error)"
   ]
  },
  {
   "cell_type": "code",
   "execution_count": 238,
   "metadata": {},
   "outputs": [],
   "source": [
    "# store errors on test set for later\n",
    "model2_alpha = alpha_list[ALPHA_IDX]\n",
    "model2_err_tr = fv2_err_tr_list[ALPHA_IDX]\n",
    "model2_err_va = fv2_err_va_list[ALPHA_IDX]\n",
    "model2_err_te = model2_test_error"
   ]
  },
  {
   "cell_type": "markdown",
   "metadata": {},
   "source": [
    "### Short Answer 2a in Report\n",
    "\n",
    "Inspect the learned weight parameters of your chosen degree-4 model.\n",
    "\n",
    "What do you notice about the relative magnitudes compared to the degree-4 model from Problem 1?"
   ]
  },
  {
   "cell_type": "markdown",
   "metadata": {},
   "source": [
    "### Short Answer 2b\n",
    "\n",
    "*See instructions on website*\n",
    "\n"
   ]
  },
  {
   "cell_type": "markdown",
   "metadata": {},
   "source": [
    "# Data preprocessing for Problem 3"
   ]
  },
  {
   "cell_type": "markdown",
   "metadata": {},
   "source": [
    "For this problem, you'll again use the provided training set and validation sets. However, you'll *merge* these into a large \"development\" set that contains 292 examples total. We can use all 292 examples to develop models."
   ]
  },
  {
   "cell_type": "code",
   "execution_count": 239,
   "metadata": {},
   "outputs": [
    {
     "name": "stdout",
     "output_type": "stream",
     "text": [
      "(292, 4)\n"
     ]
    }
   ],
   "source": [
    "x_trva_LF = np.vstack([x_tr_MF, x_va_NF])\n",
    "y_trva_L = np.hstack([y_tr_M, y_va_N])\n",
    "\n",
    "print(x_trva_LF.shape)"
   ]
  },
  {
   "cell_type": "markdown",
   "metadata": {},
   "source": [
    "# Problem 3: Cross Validation for Polynomial Feature Regression"
   ]
  },
  {
   "cell_type": "markdown",
   "metadata": {},
   "source": [
    "### Implementation step 3A\n",
    "\n",
    "For each possible `alpha` value as well as each possible polynomial degree, train and evaluate a `Ridge` regression model across the entire train+validation set using 10-fold cross validation. Use the CV methods you implemented in `cross_validation.py`. For each possible hyperparameter configuration (alpha value and degree value), your 10-fold CV procedure will give you an estimate of the training error and heldout validation error (averaged across all folds). \n"
   ]
  },
  {
   "cell_type": "code",
   "execution_count": 240,
   "metadata": {},
   "outputs": [],
   "source": [
    "K = 10 # num folds of CV\n",
    "degree_list = [1, 2, 3, 4, 5, 6, 7]\n",
    "alpha_list = np.logspace(-10, 6, 17)\n",
    "\n",
    "ridge_param_list = []\n",
    "for alpha in alpha_list:\n",
    "    for degree in degree_list:\n",
    "        ridge_param_list.append(dict(degree=degree, alpha=alpha))\n",
    "        \n",
    "cv_train_err_list = []\n",
    "cv_valid_err_list = []\n",
    "for param in ridge_param_list:\n",
    "    # make pipeline\n",
    "    deg, alph = param['degree'], param['alpha']\n",
    "    ridge_degree_alpha_pipeline = make_pipeline__ridge_linear_regr_with_poly_feats(deg, alph)\n",
    "    \n",
    "    # call your function to train a separate model for each fold and return train and valid errors\n",
    "    # Don't forget to pass random_state = SEED (where SEED is defined above) so its reproducible\n",
    "    tr_error_K, valid_error_K = train_models_and_calc_scores_for_n_fold_cv(ridge_degree_alpha_pipeline, x_trva_LF, y_trva_L, 10, SEED)\n",
    "\n",
    "    err_tr = np.mean(tr_error_K)    # compute average error across all train folds\n",
    "    err_va = np.mean(valid_error_K) # compute average error across all heldout folds\n",
    "    \n",
    "    cv_train_err_list.append(err_tr)\n",
    "    cv_valid_err_list.append(err_va)"
   ]
  },
  {
   "cell_type": "markdown",
   "metadata": {},
   "source": [
    "### Implementation step 3B\n",
    "\n",
    "Select the model hyperparameters that *minimize* your estimated cross-validation error. Using these best hyperparameters, retrain the model using the full development set (concatenating the predefined training and validation sets). Then compute that (retrained) model's error on the test set.\n",
    "\n",
    "Save this test set error value for later."
   ]
  },
  {
   "cell_type": "code",
   "execution_count": 241,
   "metadata": {},
   "outputs": [],
   "source": [
    "# choosing the lowest validation error\n",
    "BEST_IDX, BEST_ERROR = np.argmin(cv_valid_err_list), np.min(cv_valid_err_list)\n",
    "# The optimal degree and alpha\n",
    "DEGREE, ALPHA = ridge_param_list[BEST_IDX]['degree'], ridge_param_list[BEST_IDX]['alpha']\n",
    "\n",
    "model3_pipeline = make_pipeline__ridge_linear_regr_with_poly_feats(DEGREE, ALPHA)\n",
    "model3_pipeline.fit(x_trva_LF, y_trva_L)\n",
    "\n",
    "yhat_P = model3_pipeline.predict(x_te_PF)\n",
    "model_degree_alpha_test_error = calc_root_mean_squared_error(y_te_P, yhat_P)\n"
   ]
  },
  {
   "cell_type": "code",
   "execution_count": 242,
   "metadata": {},
   "outputs": [
    {
     "name": "stdout",
     "output_type": "stream",
     "text": [
      "Selected Parameters:\n",
      "degree: 7 alpha: 0.1\n",
      "10-fold CV estimate of heldout error:\n",
      "3.832745313644409\n",
      "Error on the test-set:\n",
      "3.816826761080231\n"
     ]
    }
   ],
   "source": [
    "print(\"Selected Parameters:\")\n",
    "print(f'degree: {DEGREE} alpha: {ALPHA}')\n",
    "print(\"10-fold CV estimate of heldout error:\")\n",
    "print(f'{BEST_ERROR}')\n",
    "print(\"Error on the test-set:\")\n",
    "print(f'{model_degree_alpha_test_error}')"
   ]
  },
  {
   "cell_type": "code",
   "execution_count": 243,
   "metadata": {},
   "outputs": [],
   "source": [
    "# store score on test set for later\n",
    "\n",
    "model3_err_tr = cv_train_err_list[BEST_IDX] \n",
    "model3_err_va = cv_valid_err_list[BEST_IDX] \n",
    "model3_err_te = model_degree_alpha_test_error"
   ]
  },
  {
   "cell_type": "markdown",
   "metadata": {},
   "source": [
    "## Table 3 : Comparing pipelines on test set"
   ]
  },
  {
   "cell_type": "code",
   "execution_count": 244,
   "metadata": {},
   "outputs": [],
   "source": [
    "result_row_list = []\n",
    "result_row_list.append(\n",
    "    dict(\n",
    "    name='predict mean of train ys',\n",
    "    hypers='',\n",
    "    testRMSE=baseline_err_te,\n",
    "    ))\n",
    "result_row_list.append(\n",
    "    dict(\n",
    "    name='LR deg=best-on-val',\n",
    "    hypers=f'deg: {2}',\n",
    "    testRMSE=model1_err_te,\n",
    "    ))\n",
    "result_row_list.append(\n",
    "    dict(\n",
    "    name='ridgeLR deg=4 alph=best-on-val',\n",
    "    hypers=f'alph: {model2_alpha}',\n",
    "    testRMSE=model2_err_te,\n",
    "    ))\n",
    "result_row_list.append(\n",
    "    dict(\n",
    "    name='ridgeLR deg=best-on-CV alph=best-on-CV',\n",
    "    hypers=f'deg: {7} alph: {0.1}',\n",
    "    testRMSE=model3_err_te,\n",
    "    ))\n",
    "\n"
   ]
  },
  {
   "cell_type": "code",
   "execution_count": 245,
   "metadata": {},
   "outputs": [
    {
     "data": {
      "text/html": [
       "<div>\n",
       "<style scoped>\n",
       "    .dataframe tbody tr th:only-of-type {\n",
       "        vertical-align: middle;\n",
       "    }\n",
       "\n",
       "    .dataframe tbody tr th {\n",
       "        vertical-align: top;\n",
       "    }\n",
       "\n",
       "    .dataframe thead th {\n",
       "        text-align: right;\n",
       "    }\n",
       "</style>\n",
       "<table border=\"1\" class=\"dataframe\">\n",
       "  <thead>\n",
       "    <tr style=\"text-align: right;\">\n",
       "      <th></th>\n",
       "      <th>name</th>\n",
       "      <th>hypers</th>\n",
       "      <th>testRMSE</th>\n",
       "    </tr>\n",
       "  </thead>\n",
       "  <tbody>\n",
       "    <tr>\n",
       "      <th>0</th>\n",
       "      <td>predict mean of train ys</td>\n",
       "      <td></td>\n",
       "      <td>8.231</td>\n",
       "    </tr>\n",
       "    <tr>\n",
       "      <th>1</th>\n",
       "      <td>LR deg=best-on-val</td>\n",
       "      <td>deg: 2</td>\n",
       "      <td>3.992</td>\n",
       "    </tr>\n",
       "    <tr>\n",
       "      <th>2</th>\n",
       "      <td>ridgeLR deg=4 alph=best-on-val</td>\n",
       "      <td>alph: 0.01</td>\n",
       "      <td>3.878</td>\n",
       "    </tr>\n",
       "    <tr>\n",
       "      <th>3</th>\n",
       "      <td>ridgeLR deg=best-on-CV alph=best-on-CV</td>\n",
       "      <td>deg: 7 alph: 0.1</td>\n",
       "      <td>3.817</td>\n",
       "    </tr>\n",
       "  </tbody>\n",
       "</table>\n",
       "</div>"
      ],
      "text/plain": [
       "                                     name            hypers  testRMSE\n",
       "0                predict mean of train ys                       8.231\n",
       "1                      LR deg=best-on-val            deg: 2     3.992\n",
       "2          ridgeLR deg=4 alph=best-on-val        alph: 0.01     3.878\n",
       "3  ridgeLR deg=best-on-CV alph=best-on-CV  deg: 7 alph: 0.1     3.817"
      ]
     },
     "execution_count": 245,
     "metadata": {},
     "output_type": "execute_result"
    }
   ],
   "source": [
    "pd.set_option('display.precision', 3)\n",
    "result_df = pd.DataFrame(result_row_list)\n",
    "result_df"
   ]
  },
  {
   "cell_type": "code",
   "execution_count": 247,
   "metadata": {},
   "outputs": [
    {
     "name": "stdout",
     "output_type": "stream",
     "text": [
      "\\begin{tabular}{lllr}\n",
      "\\toprule\n",
      " & name & hypers & testRMSE \\\\\n",
      "\\midrule\n",
      "0 & predict mean of train ys &  & 8.231 \\\\\n",
      "1 & LR deg=best-on-val & deg: 2 & 3.992 \\\\\n",
      "2 & ridgeLR deg=4 alph=best-on-val & alph: 0.01 & 3.878 \\\\\n",
      "3 & ridgeLR deg=best-on-CV alph=best-on-CV & deg: 7 alph: 0.1 & 3.817 \\\\\n",
      "\\bottomrule\n",
      "\\end{tabular}\n",
      "\n"
     ]
    }
   ],
   "source": [
    "# For straightforward document inclusion\n",
    "print(result_df.to_latex(float_format=\"%.3f\"))"
   ]
  }
 ],
 "metadata": {
  "kernelspec": {
   "display_name": "cs135_25s_env",
   "language": "python",
   "name": "python3"
  },
  "language_info": {
   "codemirror_mode": {
    "name": "ipython",
    "version": 3
   },
   "file_extension": ".py",
   "mimetype": "text/x-python",
   "name": "python",
   "nbconvert_exporter": "python",
   "pygments_lexer": "ipython3",
   "version": "3.11.11"
  }
 },
 "nbformat": 4,
 "nbformat_minor": 4
}
